{
 "cells": [
  {
   "cell_type": "markdown",
   "metadata": {},
   "source": [
    "**Autor:** Andrej Gajdoš  <br> \n",
    "*[Ústav matematických vied](https://www.upjs.sk/prirodovedecka-fakulta/ustav/umv/), [Prírodovedecká fakulta](https://www.upjs.sk/prirodovedecka-fakulta/), Univerzita Pavla Jozefa Šafárika v Košiciach,* <br> \n",
    "email: [andrej.gajdos@upjs.sk](mailto:andrej.gajdos@upjs.sk)\n",
    "*** \n",
    "**_Tento materiál vznikol za podpory grantu VVGS-2021-1758._** \n",
    "*** \n",
    "\n",
    "**<font size=6 color=green> MTIb: Téma 5 - Číselné postupnosti a rady </font>**  "
   ]
  },
  {
   "cell_type": "markdown",
   "metadata": {},
   "source": [
    "***\n",
    "\n",
    "<a id=postupnosti></a>\n",
    " # <font color=brown> Číselné postupnosti </font>"
   ]
  },
  {
   "attachments": {
    "postupnostTrouholnikovychCisel.png": {
     "image/png": "[encoded data removed]"
    }
   },
   "cell_type": "markdown",
   "metadata": {},
   "source": [
    "S _číselnými postupnosťami_ sa stretávame každý deň. Vaše mesačné platby za energie, ročný úrok, ktorý získate z investícií, suma, ktorú každý týždeň miniete za potraviny ... Všetko sú to príklady postupností. Medzi ďalšie postupnosti, ktoré už možno poznáte, patrí Fibonacciho postupnosť $1, 1, 2, 3, 5, 8, ...,$ kde každý člen je súčtom dvoch predchádzajúcich členov alebo  postupnosť trojuholníkových čísel $1, 3, 6, 10, 15, 21, 28, 36, 45, 55, ...,$ počet vrcholov (bodiek) v trojuholníkoch uvedených na nasledujúcom obrázku \n",
    "\n",
    "![postupnostTrouholnikovychCisel.png](attachment:postupnostTrouholnikovychCisel.png) \n",
    "$$\\text{Zdroj: Boelkins (2019).}$$ \n"
   ]
  },
  {
   "cell_type": "markdown",
   "metadata": {},
   "source": [
    "---\n",
    "\n",
    "#### <font color=blue> Príklad 1 </font> \n",
    "\n",
    "Predpokladajte, že dostanete $5 000$ dolárov z dedičstva. Rozhodnete sa investovať tieto peniaze do fondu, ktorý platí $8$%  ročne (zložene po mesiacoch - t.j. $8$% sa rozloží na 12 mesiacov v roku). To znamená, že každý mesiac Vaša investícia zarobí ďalších $\\dfrac{0.08}{12}\\cdot P$, pričom $P$ je váš zostatok istiny na začiatku mesiaca. Takže v prvom mesiaci Vaša investícia zarobí $5 000 \\cdot \\dfrac{0.08}{12}$ resp. $33.33$ dolárov (zisk z úroku). Ak tieto peniaze preinvestujete, na konci prvého mesiaca budete mať na svojom účte $5033.33$ dolárov. Od tohto okamihu predpokladajte, že preinvestujete všetok úrok, ktorý získate.\n",
    "\n",
    "a) Aký úrok získate v druhom mesiaci? Koľko peňazí budete mať na účte na konci druhého mesiaca? \n",
    "\n",
    "Zrejme na začiatku druhého mesiaca je vo fonde $P=5033.33$ dolárov. Podľa vzťahu $\\dfrac{0.08}{12}\\cdot P$, bude zisk v druhom mesiaci $\\dfrac{0.08}{12}\\cdot 5033.33=33.56$ a keď tento zisk z úroku celý preinvestujete (pripočíta sa k aktuálnej sume vo fonde), budete mať na konci druhého mesiaca vo fonde spolu $5033.33+33.56=5066.89$ dolárov, ktoré sa budú vo fonde ďalej úročiť. \n",
    "\n",
    "b) Vyplňte nasledujúcu tabuľku, tzn. určte zisk z úroku a celkovú sumu peňazí z tejto investície každý mesiac po dobu jedného roka. Viete dopočítať chýbajúce hodnoty v tabuľke efektívne pomocou Sage? \n",
    "\n",
    "<style type=\"text/css\">\n",
    ".tg  {border-collapse:collapse;border-spacing:0;}\n",
    ".tg td{border-color:black;border-style:solid;border-width:1px;font-family:Arial, sans-serif;font-size:14px;\n",
    "  overflow:hidden;padding:10px 5px;word-break:normal;}\n",
    ".tg th{border-color:black;border-style:solid;border-width:1px;font-family:Arial, sans-serif;font-size:14px;\n",
    "  font-weight:normal;overflow:hidden;padding:10px 5px;word-break:normal;}\n",
    ".tg .tg-baqh{text-align:center;vertical-align:top}\n",
    ".tg .tg-amwm{font-weight:bold;text-align:center;vertical-align:top}\n",
    "</style>\n",
    "<table class=\"tg\">\n",
    "<thead>\n",
    "  <tr>\n",
    "    <th class=\"tg-amwm\">Mesiac</th>\n",
    "    <th class=\"tg-amwm\">Zisk z úroku v dolároch</th>\n",
    "    <th class=\"tg-amwm\">Celková suma peňazí vo fonde v dolároch</th>\n",
    "  </tr>\n",
    "</thead>\n",
    "<tbody>\n",
    "  <tr>\n",
    "    <td class=\"tg-baqh\">0</td>\n",
    "    <td class=\"tg-baqh\">0.00</td>\n",
    "    <td class=\"tg-baqh\">5000.0</td>\n",
    "  </tr>\n",
    "  <tr>\n",
    "    <td class=\"tg-baqh\">1</td>\n",
    "    <td class=\"tg-baqh\">33.33</td>\n",
    "    <td class=\"tg-baqh\">5033.33</td>\n",
    "  </tr>\n",
    "  <tr>\n",
    "    <td class=\"tg-baqh\">2</td>\n",
    "    <td class=\"tg-baqh\">33.56</td>\n",
    "    <td class=\"tg-baqh\">5066.89</td>\n",
    "  </tr>\n",
    "  <tr>\n",
    "    <td class=\"tg-baqh\">3</td>\n",
    "    <td class=\"tg-baqh\"></td>\n",
    "    <td class=\"tg-baqh\"></td>\n",
    "  </tr>\n",
    "  <tr>\n",
    "    <td class=\"tg-baqh\">4</td>\n",
    "    <td class=\"tg-baqh\"></td>\n",
    "    <td class=\"tg-baqh\"></td>\n",
    "  </tr>\n",
    "  <tr>\n",
    "    <td class=\"tg-baqh\">5</td>\n",
    "    <td class=\"tg-baqh\"></td>\n",
    "    <td class=\"tg-baqh\"></td>\n",
    "  </tr>\n",
    "  <tr>\n",
    "    <td class=\"tg-baqh\">6</td>\n",
    "    <td class=\"tg-baqh\"></td>\n",
    "    <td class=\"tg-baqh\"></td>\n",
    "  </tr>\n",
    "  <tr>\n",
    "    <td class=\"tg-baqh\">7</td>\n",
    "    <td class=\"tg-baqh\"></td>\n",
    "    <td class=\"tg-baqh\"></td>\n",
    "  </tr>\n",
    "  <tr>\n",
    "    <td class=\"tg-baqh\">8</td>\n",
    "    <td class=\"tg-baqh\"></td>\n",
    "    <td class=\"tg-baqh\"></td>\n",
    "  </tr>\n",
    "  <tr>\n",
    "    <td class=\"tg-baqh\">9</td>\n",
    "    <td class=\"tg-baqh\"></td>\n",
    "    <td class=\"tg-baqh\"></td>\n",
    "  </tr>\n",
    "  <tr>\n",
    "    <td class=\"tg-baqh\">10</td>\n",
    "    <td class=\"tg-baqh\"></td>\n",
    "    <td class=\"tg-baqh\"></td>\n",
    "  </tr>\n",
    "  <tr>\n",
    "    <td class=\"tg-baqh\">11</td>\n",
    "    <td class=\"tg-baqh\"></td>\n",
    "    <td class=\"tg-baqh\"></td>\n",
    "  </tr>\n",
    "  <tr>\n",
    "    <td class=\"tg-baqh\">12</td>\n",
    "    <td class=\"tg-baqh\"></td>\n",
    "    <td class=\"tg-baqh\"></td>\n",
    "  </tr>\n",
    "</tbody>\n",
    "</table>\n",
    "\n",
    "c) Dá sa ukázať (zamyslite sa!), že celková suma peňazí $P_n$ vo fonde po $n$ mesiacoch je daná vzorcom \n",
    "\n",
    "$$P_n=5000\\cdot\\left(1+\\dfrac{0.08}{12}\\right)^n.$$\n",
    "\n",
    "S využitím tohto vzorca (v Sage) skontrolujte svoje výpočty v tabuľke. Zistite celkovú sumu peňazí, ktorá bude vo fonde po piatich rokoch. \n",
    "\n",
    "d) Koľko rokov uplynie, kým sa suma peňazí vo fonde zdvojnásobí na $10 000$ dolárov?\n",
    "\n",
    "---"
   ]
  },
  {
   "cell_type": "markdown",
   "metadata": {},
   "source": [
    "Ako ukazuje predchádzajúci príklad, mnoho diskrétnych (opak spojitých) fenoménov je možné reprezentovať zoznamom resp. **_postupnosťou čísel_** - napr. celková suma peňazí vo fonde na konci určitého obdobia. Ďalší výpočet ilustruje **postupnosť** celkovej sumy peňazí vo fonde na konci každého mesiaca po dobu dvoch rokov. Výpis je v tvare (mesiac,suma). Inými slovami, každému mesiacu (prirodzenému číslu) je priradená (odpovedá) určitá suma peňazí. **Postupnosť** **je** teda **funkcia**, ktorej definičný obor sú prirodzené čísla a obor hodnôt sú čísla reálne. Graf takej funkcie (postupnosti) je uvedený nižšie. Všimnite si rozdiel oproti grafom funkcií (spojitých), s ktorými sme prevažne pracovali doteraz. "
   ]
  },
  {
   "cell_type": "code",
   "execution_count": 10,
   "metadata": {},
   "outputs": [
    {
     "data": {
      "text/html": [
       "<html><script type=\"math/tex; mode=display\">\\newcommand{\\Bold}[1]{\\mathbf{#1}}\\left[\\left(0, 5000\\right), \\left(1, 5033.33333333333\\right), \\left(2, 5066.88888888889\\right), \\left(3, 5100.66814814815\\right), \\left(4, 5134.67260246913\\right), \\left(5, 5168.90375315226\\right), \\left(6, 5203.36311150661\\right), \\left(7, 5238.05219891665\\right), \\left(8, 5272.97254690943\\right), \\left(9, 5308.12569722216\\right), \\left(10, 5343.51320187031\\right), \\left(11, 5379.13662321611\\right), \\left(12, 5414.99753403755\\right), \\left(13, 5451.09751759780\\right), \\left(14, 5487.43816771512\\right), \\left(15, 5524.02108883322\\right), \\left(16, 5560.84789609211\\right), \\left(17, 5597.92021539939\\right), \\left(18, 5635.23968350205\\right), \\left(19, 5672.80794805873\\right), \\left(20, 5710.62666771245\\right), \\left(21, 5748.69751216387\\right), \\left(22, 5787.02216224496\\right), \\left(23, 5825.60230999326\\right), \\left(24, 5864.43965872655\\right)\\right]</script></html>"
      ],
      "text/plain": [
       "[(0, 5000),\n",
       " (1, 5033.33333333333),\n",
       " (2, 5066.88888888889),\n",
       " (3, 5100.66814814815),\n",
       " (4, 5134.67260246913),\n",
       " (5, 5168.90375315226),\n",
       " (6, 5203.36311150661),\n",
       " (7, 5238.05219891665),\n",
       " (8, 5272.97254690943),\n",
       " (9, 5308.12569722216),\n",
       " (10, 5343.51320187031),\n",
       " (11, 5379.13662321611),\n",
       " (12, 5414.99753403755),\n",
       " (13, 5451.09751759780),\n",
       " (14, 5487.43816771512),\n",
       " (15, 5524.02108883322),\n",
       " (16, 5560.84789609211),\n",
       " (17, 5597.92021539939),\n",
       " (18, 5635.23968350205),\n",
       " (19, 5672.80794805873),\n",
       " (20, 5710.62666771245),\n",
       " (21, 5748.69751216387),\n",
       " (22, 5787.02216224496),\n",
       " (23, 5825.60230999326),\n",
       " (24, 5864.43965872655)]"
      ]
     },
     "metadata": {},
     "output_type": "display_data"
    }
   ],
   "source": [
    "Pn(n) = 5000*(1+0.08/12)^n \n",
    "n = 24\n",
    "sumy_penazi = [(i,Pn(i)) for i in range(0,n+1)]\n",
    "show(sumy_penazi)"
   ]
  },
  {
   "cell_type": "code",
   "execution_count": 18,
   "metadata": {},
   "outputs": [
    {
     "data": {
      "image/png": "[encoded data removed]",
      "text/plain": [
       "Graphics object consisting of 2 graphics primitives"
      ]
     },
     "execution_count": 18,
     "metadata": {},
     "output_type": "execute_result"
    }
   ],
   "source": [
    "list_plot(sumy_penazi, axes_labels=['Mesiac', 'Suma peňazí'], axes_labels_size = 1) + text(r\"$P_n=5000\\cdot\\left(1+\\dfrac{0.08}{12}\\right)^n$\", (20, 5400), color ='blue') "
   ]
  },
  {
   "cell_type": "markdown",
   "metadata": {},
   "source": [
    "---\n",
    "\n",
    "### <font color=red> Definícia 1 </font> \n",
    "\n",
    "**_Postupnosť_** reálnych čísel je funkcia $f:\\ \\mathbb{N} \\to \\mathbb{R}$, ktorej definičný obor je množina prirodzených čísel; označujeme $\\{f_n\\}_{n=1}^\\infty$. Číslo $f_k$ sa nazýva **_$k$-tý člen_** postupnosti $\\{f_n\\}_{n=1}^\\infty$. \n",
    "\n",
    "--- "
   ]
  },
  {
   "cell_type": "markdown",
   "metadata": {},
   "source": [
    "--- \n",
    "\n",
    "#### Poznámka 1 \n",
    "\n",
    "* Keďže postupnosti sú špeciálnym prípadom reálnych funkcií, vzťahujú sa na nich (s úpravou rešpektujúcou zúžený definičný obor - množinu $\\mathbb{N}$) všetky štandardné definície (ako napr. monotónnosť alebo ohraničenosť) a tvrdenia (napr. o limitách) z teórie funkcií jednej reálnej premennej. \n",
    "\n",
    "\n",
    "* Miesto označenia $\\{f_n\\}_{n=1}^\\infty$ sa niekedy používa označenie $\\{a_n\\}_{n=1}^\\infty$ a teda $a_k$ je v tomto prípade $k$-tý člen postupnosti. \n",
    "\n",
    "--- "
   ]
  },
  {
   "cell_type": "markdown",
   "metadata": {},
   "source": [
    "<font color=orange> Vypíšte prvých desať členov postupnosti $\\left\\{\\dfrac{(-1)^{\\frac{n(n+1)}{2}}}{n^2}\\right\\}_{n=1}^{\\infty}$. </font>"
   ]
  },
  {
   "cell_type": "code",
   "execution_count": null,
   "metadata": {},
   "outputs": [],
   "source": []
  },
  {
   "cell_type": "markdown",
   "metadata": {},
   "source": [
    "Čo sa týka limitného správania (pre veľké $n$ t.j.$n\\rightarrow\\infty$) napr. postupnosti z príkladu o úročení peňazí vo fonde, tak zrejme s rastúcim $n$ členy postupnosti rastú (pozri graf) neobmedzene (t.j. nad akúkoľvek hranicu). Keďže sa členy zmienenej postupnosti neblížia k žiadnému reálnemu číslu (ale neobmedzene rastú), nabáda nás to k tomu, že limita takej postupnosti bude $+\\infty$.  \n",
    "\n",
    "Ako je to ale s členmi napr. postupnosti $\\left\\{\\dfrac{1+n}{2+n}\\right\\}_{n=1}^{\\infty}$ pre zväčšujúce sa $n$? Vypíšme si niekoľko členov tejto postupnosti a pozrime sa na jej graf. "
   ]
  },
  {
   "cell_type": "code",
   "execution_count": 19,
   "metadata": {},
   "outputs": [
    {
     "data": {
      "text/html": [
       "<html><script type=\"math/tex; mode=display\">\\newcommand{\\Bold}[1]{\\mathbf{#1}}\\left[\\frac{1}{2}, \\frac{2}{3}, \\frac{3}{4}, \\frac{4}{5}, \\frac{5}{6}, \\frac{6}{7}, \\frac{7}{8}, \\frac{8}{9}, \\frac{9}{10}, \\frac{10}{11}, \\frac{11}{12}, \\frac{12}{13}, \\frac{13}{14}, \\frac{14}{15}, \\frac{15}{16}, \\frac{16}{17}, \\frac{17}{18}, \\frac{18}{19}, \\frac{19}{20}, \\frac{20}{21}, \\frac{21}{22}, \\frac{22}{23}, \\frac{23}{24}, \\frac{24}{25}, \\frac{25}{26}, \\frac{26}{27}, \\frac{27}{28}, \\frac{28}{29}, \\frac{29}{30}, \\frac{30}{31}, \\frac{31}{32}, \\frac{32}{33}, \\frac{33}{34}, \\frac{34}{35}, \\frac{35}{36}, \\frac{36}{37}, \\frac{37}{38}, \\frac{38}{39}, \\frac{39}{40}, \\frac{40}{41}, \\frac{41}{42}, \\frac{42}{43}, \\frac{43}{44}, \\frac{44}{45}, \\frac{45}{46}, \\frac{46}{47}, \\frac{47}{48}, \\frac{48}{49}, \\frac{49}{50}, \\frac{50}{51}, \\frac{51}{52}, \\frac{52}{53}, \\frac{53}{54}, \\frac{54}{55}, \\frac{55}{56}, \\frac{56}{57}, \\frac{57}{58}, \\frac{58}{59}, \\frac{59}{60}, \\frac{60}{61}, \\frac{61}{62}, \\frac{62}{63}, \\frac{63}{64}, \\frac{64}{65}, \\frac{65}{66}, \\frac{66}{67}, \\frac{67}{68}, \\frac{68}{69}, \\frac{69}{70}, \\frac{70}{71}, \\frac{71}{72}, \\frac{72}{73}, \\frac{73}{74}, \\frac{74}{75}, \\frac{75}{76}, \\frac{76}{77}, \\frac{77}{78}, \\frac{78}{79}, \\frac{79}{80}, \\frac{80}{81}, \\frac{81}{82}, \\frac{82}{83}, \\frac{83}{84}, \\frac{84}{85}, \\frac{85}{86}, \\frac{86}{87}, \\frac{87}{88}, \\frac{88}{89}, \\frac{89}{90}, \\frac{90}{91}, \\frac{91}{92}, \\frac{92}{93}, \\frac{93}{94}, \\frac{94}{95}, \\frac{95}{96}, \\frac{96}{97}, \\frac{97}{98}, \\frac{98}{99}, \\frac{99}{100}, \\frac{100}{101}, \\frac{101}{102}\\right]</script></html>"
      ],
      "text/plain": [
       "[1/2,\n",
       " 2/3,\n",
       " 3/4,\n",
       " 4/5,\n",
       " 5/6,\n",
       " 6/7,\n",
       " 7/8,\n",
       " 8/9,\n",
       " 9/10,\n",
       " 10/11,\n",
       " 11/12,\n",
       " 12/13,\n",
       " 13/14,\n",
       " 14/15,\n",
       " 15/16,\n",
       " 16/17,\n",
       " 17/18,\n",
       " 18/19,\n",
       " 19/20,\n",
       " 20/21,\n",
       " 21/22,\n",
       " 22/23,\n",
       " 23/24,\n",
       " 24/25,\n",
       " 25/26,\n",
       " 26/27,\n",
       " 27/28,\n",
       " 28/29,\n",
       " 29/30,\n",
       " 30/31,\n",
       " 31/32,\n",
       " 32/33,\n",
       " 33/34,\n",
       " 34/35,\n",
       " 35/36,\n",
       " 36/37,\n",
       " 37/38,\n",
       " 38/39,\n",
       " 39/40,\n",
       " 40/41,\n",
       " 41/42,\n",
       " 42/43,\n",
       " 43/44,\n",
       " 44/45,\n",
       " 45/46,\n",
       " 46/47,\n",
       " 47/48,\n",
       " 48/49,\n",
       " 49/50,\n",
       " 50/51,\n",
       " 51/52,\n",
       " 52/53,\n",
       " 53/54,\n",
       " 54/55,\n",
       " 55/56,\n",
       " 56/57,\n",
       " 57/58,\n",
       " 58/59,\n",
       " 59/60,\n",
       " 60/61,\n",
       " 61/62,\n",
       " 62/63,\n",
       " 63/64,\n",
       " 64/65,\n",
       " 65/66,\n",
       " 66/67,\n",
       " 67/68,\n",
       " 68/69,\n",
       " 69/70,\n",
       " 70/71,\n",
       " 71/72,\n",
       " 72/73,\n",
       " 73/74,\n",
       " 74/75,\n",
       " 75/76,\n",
       " 76/77,\n",
       " 77/78,\n",
       " 78/79,\n",
       " 79/80,\n",
       " 80/81,\n",
       " 81/82,\n",
       " 82/83,\n",
       " 83/84,\n",
       " 84/85,\n",
       " 85/86,\n",
       " 86/87,\n",
       " 87/88,\n",
       " 88/89,\n",
       " 89/90,\n",
       " 90/91,\n",
       " 91/92,\n",
       " 92/93,\n",
       " 93/94,\n",
       " 94/95,\n",
       " 95/96,\n",
       " 96/97,\n",
       " 97/98,\n",
       " 98/99,\n",
       " 99/100,\n",
       " 100/101,\n",
       " 101/102]"
      ]
     },
     "metadata": {},
     "output_type": "display_data"
    }
   ],
   "source": [
    "# cleny postupnosti a_n=(1+n)/(2+n) v tvare zlomkov\n",
    "an(n) = (1+n)/(2+n) \n",
    "n = 100\n",
    "cleny_an = [an(i) for i in range(0,n+1)]\n",
    "show(cleny_an)"
   ]
  },
  {
   "cell_type": "code",
   "execution_count": 24,
   "metadata": {},
   "outputs": [
    {
     "data": {
      "text/html": [
       "<html><script type=\"math/tex; mode=display\">\\newcommand{\\Bold}[1]{\\mathbf{#1}}\\left[0.500000000000000, 0.666666666666667, 0.750000000000000, 0.800000000000000, 0.833333333333333, 0.857142857142857, 0.875000000000000, 0.888888888888889, 0.900000000000000, 0.909090909090909, 0.916666666666667, 0.923076923076923, 0.928571428571429, 0.933333333333333, 0.937500000000000, 0.941176470588235, 0.944444444444444, 0.947368421052632, 0.950000000000000, 0.952380952380952, 0.954545454545455, 0.956521739130435, 0.958333333333333, 0.960000000000000, 0.961538461538462, 0.962962962962963, 0.964285714285714, 0.965517241379310, 0.966666666666667, 0.967741935483871, 0.968750000000000, 0.969696969696970, 0.970588235294118, 0.971428571428571, 0.972222222222222, 0.972972972972973, 0.973684210526316, 0.974358974358974, 0.975000000000000, 0.975609756097561, 0.976190476190476, 0.976744186046512, 0.977272727272727, 0.977777777777778, 0.978260869565217, 0.978723404255319, 0.979166666666667, 0.979591836734694, 0.980000000000000, 0.980392156862745, 0.980769230769231, 0.981132075471698, 0.981481481481482, 0.981818181818182, 0.982142857142857, 0.982456140350877, 0.982758620689655, 0.983050847457627, 0.983333333333333, 0.983606557377049, 0.983870967741935, 0.984126984126984, 0.984375000000000, 0.984615384615385, 0.984848484848485, 0.985074626865672, 0.985294117647059, 0.985507246376812, 0.985714285714286, 0.985915492957746, 0.986111111111111, 0.986301369863014, 0.986486486486487, 0.986666666666667, 0.986842105263158, 0.987012987012987, 0.987179487179487, 0.987341772151899, 0.987500000000000, 0.987654320987654, 0.987804878048780, 0.987951807228916, 0.988095238095238, 0.988235294117647, 0.988372093023256, 0.988505747126437, 0.988636363636364, 0.988764044943820, 0.988888888888889, 0.989010989010989, 0.989130434782609, 0.989247311827957, 0.989361702127660, 0.989473684210526, 0.989583333333333, 0.989690721649485, 0.989795918367347, 0.989898989898990, 0.990000000000000, 0.990099009900990, 0.990196078431373\\right]</script></html>"
      ],
      "text/plain": [
       "[0.500000000000000,\n",
       " 0.666666666666667,\n",
       " 0.750000000000000,\n",
       " 0.800000000000000,\n",
       " 0.833333333333333,\n",
       " 0.857142857142857,\n",
       " 0.875000000000000,\n",
       " 0.888888888888889,\n",
       " 0.900000000000000,\n",
       " 0.909090909090909,\n",
       " 0.916666666666667,\n",
       " 0.923076923076923,\n",
       " 0.928571428571429,\n",
       " 0.933333333333333,\n",
       " 0.937500000000000,\n",
       " 0.941176470588235,\n",
       " 0.944444444444444,\n",
       " 0.947368421052632,\n",
       " 0.950000000000000,\n",
       " 0.952380952380952,\n",
       " 0.954545454545455,\n",
       " 0.956521739130435,\n",
       " 0.958333333333333,\n",
       " 0.960000000000000,\n",
       " 0.961538461538462,\n",
       " 0.962962962962963,\n",
       " 0.964285714285714,\n",
       " 0.965517241379310,\n",
       " 0.966666666666667,\n",
       " 0.967741935483871,\n",
       " 0.968750000000000,\n",
       " 0.969696969696970,\n",
       " 0.970588235294118,\n",
       " 0.971428571428571,\n",
       " 0.972222222222222,\n",
       " 0.972972972972973,\n",
       " 0.973684210526316,\n",
       " 0.974358974358974,\n",
       " 0.975000000000000,\n",
       " 0.975609756097561,\n",
       " 0.976190476190476,\n",
       " 0.976744186046512,\n",
       " 0.977272727272727,\n",
       " 0.977777777777778,\n",
       " 0.978260869565217,\n",
       " 0.978723404255319,\n",
       " 0.979166666666667,\n",
       " 0.979591836734694,\n",
       " 0.980000000000000,\n",
       " 0.980392156862745,\n",
       " 0.980769230769231,\n",
       " 0.981132075471698,\n",
       " 0.981481481481482,\n",
       " 0.981818181818182,\n",
       " 0.982142857142857,\n",
       " 0.982456140350877,\n",
       " 0.982758620689655,\n",
       " 0.983050847457627,\n",
       " 0.983333333333333,\n",
       " 0.983606557377049,\n",
       " 0.983870967741935,\n",
       " 0.984126984126984,\n",
       " 0.984375000000000,\n",
       " 0.984615384615385,\n",
       " 0.984848484848485,\n",
       " 0.985074626865672,\n",
       " 0.985294117647059,\n",
       " 0.985507246376812,\n",
       " 0.985714285714286,\n",
       " 0.985915492957746,\n",
       " 0.986111111111111,\n",
       " 0.986301369863014,\n",
       " 0.986486486486487,\n",
       " 0.986666666666667,\n",
       " 0.986842105263158,\n",
       " 0.987012987012987,\n",
       " 0.987179487179487,\n",
       " 0.987341772151899,\n",
       " 0.987500000000000,\n",
       " 0.987654320987654,\n",
       " 0.987804878048780,\n",
       " 0.987951807228916,\n",
       " 0.988095238095238,\n",
       " 0.988235294117647,\n",
       " 0.988372093023256,\n",
       " 0.988505747126437,\n",
       " 0.988636363636364,\n",
       " 0.988764044943820,\n",
       " 0.988888888888889,\n",
       " 0.989010989010989,\n",
       " 0.989130434782609,\n",
       " 0.989247311827957,\n",
       " 0.989361702127660,\n",
       " 0.989473684210526,\n",
       " 0.989583333333333,\n",
       " 0.989690721649485,\n",
       " 0.989795918367347,\n",
       " 0.989898989898990,\n",
       " 0.990000000000000,\n",
       " 0.990099009900990,\n",
       " 0.990196078431373]"
      ]
     },
     "metadata": {},
     "output_type": "display_data"
    }
   ],
   "source": [
    "# cleny postupnosti a_n=(1+n)/(2+n) v tvare desatinnych cisel \n",
    "an(n) = (1+n)/(2+n) \n",
    "n = 100\n",
    "cleny_an = [an(i).n() for i in range(0,n+1)]\n",
    "show(cleny_an)"
   ]
  },
  {
   "cell_type": "code",
   "execution_count": 35,
   "metadata": {},
   "outputs": [
    {
     "data": {
      "image/png": "[encoded data removed]",
      "text/plain": [
       "Graphics object consisting of 7 graphics primitives"
      ]
     },
     "execution_count": 35,
     "metadata": {},
     "output_type": "execute_result"
    }
   ],
   "source": [
    "an(n) = (1+n)/(2+n) \n",
    "n = 100\n",
    "list_plot([(i,an(i)) for i in range(0,n+1)], axes_labels=['n', '$a_n$'], axes_labels_size = 1) + text(r\"$a_n=\\dfrac{1+n}{2+n}$\", (40, 0.7), color ='blue') + line([(0,1),(100,1)], color = 'red', linestyle = 'dashed') + line([(10,0),(10,an(10))], color = 'black', linestyle = 'dashed') + line([(10,an(10)),(0,an(10))], color = 'black', linestyle = 'dashed') + line([(0,0.9),(100,0.9)], color = 'green') + line([(0,1.1),(100,1.1)], color = 'green')"
   ]
  },
  {
   "cell_type": "markdown",
   "metadata": {},
   "source": [
    "Všimnime si, že hodnoty členov postupnosti sa blížia k číslu $1$. Je to vhodný adept na limitu (viď červená čiarkovaná čiara) tejto postupnosti. Navyše ak si zvolíme ľubovoľné (malé) $\\varepsilon>0$, napr. $\\varepsilon=0.1$, tak vždy (ku každému takto zvolenému $\\varepsilon$) vieme nájsť prirodzené číslo $n_0$ také, že všetky členy postupnosti, ktoré nasledujú za $n_0$ sú vzdialené od hodnoty $1$ menej ako zvolené $\\varepsilon=0.1$ t.j. $|a_n-1|<0.1$ pre všetky $n\\ge n_0$. Konkrétne pre $\\varepsilon=0.1$ stačí zvoliť $n_0=10$ lebo $|a_{10}-1|=|0.909-1|=0.091<0.1$, podobne $|a_{11}-1|=|0.917-1|=0.083<0.1$ atď. Graficky to znamená, že všetky členy danej postupnosti, od člena $a_{10}$ (viď čierna čiarkovaná čiara) ležia v zelenom páse, ktorý pretína os $y$ v bodoch $0.9$ a $1.1$ a nikdy z neho \"nevybehnú\". Čiže všetky členy danej postupnosti, od člena $a_{10}$ sú vzdialené od hodnoty $1$ o menej ako $0.1$. Ak toto vieme zabezpečiť pre každé $\\varepsilon>0$, tzn. nájsť vhodné $n_0$ ku každému $\\varepsilon>0$ tak, aby členy postupnosti počnúc členom $a_{n_0}$ \"nevypadli\" z pásu ohraničeného priamkami (rovnobežnými s osou $x$) prechádzajúcimi cez body $1-\\varepsilon$ a $1+\\varepsilon$ , potom hovoríme, že postupnosť má limitu $1$. Všeobecnejšie je limita postupnosti zavedená v Definícii 2 (tu sme rozobrali prípad, keď je limita $1$, t.j. $A=1$).  \n",
    "\n",
    "V prípade postupnosti, ktorá nemá limitu (pozri príklad s úročením peňazí), nech zvolíme akékoľvek $\\varepsilon>0$, potom vždy nájdeme k tomuto $\\varepsilon$ také $n_0$, že všetky členy od $a_{n_0}$ vyššie, budú ležať mimo pás ohraničený priamkami (rovnobežnými s osou $x$) prechádzajúcimi bodmi $1-\\varepsilon$ a $1+\\varepsilon$. "
   ]
  },
  {
   "cell_type": "markdown",
   "metadata": {},
   "source": [
    "<font color=orange> Podobne ako v prípade postupnosti $\\left\\{\\dfrac{1+n}{2+n}\\right\\}_{n=1}^{\\infty}$, skúste vypísať niekoľko členov postupnosti $\\left\\{(-1)^n\\cdot\\dfrac{1}{n}\\right\\}_{n=1}^{\\infty}$, vykresliť graf a popísať jej limitné správanie. </font>"
   ]
  },
  {
   "cell_type": "code",
   "execution_count": null,
   "metadata": {},
   "outputs": [],
   "source": []
  },
  {
   "cell_type": "markdown",
   "metadata": {},
   "source": [
    "--- \n",
    "\n",
    "### <font color=red> Definícia 2 </font>  \n",
    "\n",
    "Postupnosť $\\{a_n\\}_{n=1}^\\infty$ má \n",
    "\n",
    "\n",
    "* **_vlastnú limitu_** rovnú $A \\in \\mathbb{R}$, ak \n",
    "$$(\\forall \\varepsilon > 0)(\\exists n_0 \\in \\mathbb{N})(\\forall n \\geq n_0)\\ |a_n - A| < \\varepsilon;$$\n",
    "označujeme $\\lim\\limits_{n \\to \\infty} a_n = A$, \n",
    "\n",
    "\n",
    "* **_nevlastnú limitu_** rovnú $+\\infty$, ak \n",
    "$$(\\forall \\varepsilon)(\\exists n_0 \\in \\mathbb{N})(\\forall n \\geq n_0)\\ a_n > \\varepsilon;$$\n",
    "označujeme $\\lim\\limits_{n \\to \\infty} a_n = +\\infty$,\n",
    "\n",
    "\n",
    "* **_nevlastnú limitu_** rovnú $-\\infty$, ak\n",
    "$$(\\forall \\varepsilon)(\\exists n_0 \\in \\mathbb{N})(\\forall n \\geq n_0)\\ a_n < \\varepsilon;$$\n",
    "označujeme $\\lim\\limits_{n \\to \\infty} a_n = -\\infty$. \n",
    "\n",
    "---"
   ]
  },
  {
   "cell_type": "markdown",
   "metadata": {},
   "source": [
    "--- \n",
    "\n",
    "### <font color=red> Definícia 3 </font> \n",
    "\n",
    "Postupnosť sa nazýva **_konvergentná_**, ak má vlastnú limitu, a **_divergentná_**, ak má nevlastnú limitu. \n",
    "\n",
    "--- "
   ]
  },
  {
   "cell_type": "markdown",
   "metadata": {},
   "source": [
    "--- \n",
    "\n",
    "#### Poznámka 2 \n",
    "\n",
    "Ak limita postupnosti neexistuje (ani vlastná ani nevlastná), potom hovoríme, že postupnosť **_osciluje_**. Pozrime sa na graf postupnosti $\\left\\{\\cos\\,n\\right\\}_{n=1}^{\\infty}$. Hodnoty (členy) tejto postupnosti \"skáču\" (oscilujú) medzi číslami $-1$ a $1$. Tzn. neblížia sa členy tejto postupnosti k žiadnej konkrétnej hodnote, ani neutekajú do plus či mínus nekonečna. Dalo by sa ukázať (presahuje to rámec tohto textu), že existuje nekočne veľa členov danej postupnosti, ktoré sú (ľubovoľne) blízko hodnoty $1$ a zároveň existuje nekočne veľa členov danej postupnosti, ktoré sú (ľubovoľne) blízko hodnoty $-1$. Teda napr. ak zvolíme $\\varepsilon=0.05$, potom existuje nekonečne veľa členov postupnosti $\\left\\{\\cos\\,n\\right\\}_{n=1}^{\\infty}$, ktorých vzdialenosť od hodnoty $1$ je menej ako $\\varepsilon=0.05$, t.j. $|\\cos\\,n-1|<0.05$ platí pre nekonečne veľa $n$. Platí to taktiež pre každé zvolené $\\varepsilon>0$. Podobne je to v prípadde hodnoty $-1$, tým pádom limita (ani vlastná, ani nevlastná) takej postupnosti nemôže existovať. \n"
   ]
  },
  {
   "cell_type": "code",
   "execution_count": 2,
   "metadata": {},
   "outputs": [
    {
     "data": {
      "image/png": "[encoded data removed]",
      "text/plain": [
       "Graphics object consisting of 2 graphics primitives"
      ]
     },
     "execution_count": 2,
     "metadata": {},
     "output_type": "execute_result"
    }
   ],
   "source": [
    "an(n) = cos(n) \n",
    "n = 100\n",
    "list_plot([(i,an(i)) for i in range(0,n+1)], axes_labels=['n', '$a_n$'], axes_labels_size = 1) + text(r\"$a_n=\\cos\\,n$\", (40, 0.7), color ='blue', fontsize=12)"
   ]
  },
  {
   "cell_type": "markdown",
   "metadata": {},
   "source": [
    "--- "
   ]
  },
  {
   "cell_type": "markdown",
   "metadata": {},
   "source": [
    "--- \n",
    "\n",
    "### <font color=green> Veta 1 </font> \n",
    "\n",
    "Ak postupnosť je zhora ohraničená a neklesajúca (resp. zdola ohraničená a nerastúca), tak má (vlastnú) limitu.  \n",
    "\n",
    "--- "
   ]
  },
  {
   "cell_type": "markdown",
   "metadata": {},
   "source": [
    "--- \n",
    "\n",
    "#### Poznámka 3 \n",
    "\n",
    "* Príkladom neklesajúcej a zhora ohraničenej postupnosti je $\\left\\{\\dfrac{1+n}{2+n}\\right\\}_{n=1}^{\\infty}$. <font color=orange> Dokážte, že táto postupnosť má uvedené vlastnosti! (Pripomeňte si definíciu ohraničenosti a neklesajúcosti funkcie.) </font>\n",
    "\n",
    "\n",
    "* Príkladom nerastúcej a zdola ohraničenej postupnosti je $\\left\\{-\\dfrac{1+n}{2+n}\\right\\}_{n=1}^{\\infty}$. <font color=orange> Dokážte, že táto postupnosť má uvedené vlastnosti! </font>\n",
    "\n",
    "--- "
   ]
  },
  {
   "cell_type": "markdown",
   "metadata": {},
   "source": [
    "<font color=orange> Vymyslite príklad postupnosti, ktorá má limitu $-\\infty$ (využite Sage). Pokúste sa to aj zdôvodniť (dokázať z definície). </font>"
   ]
  },
  {
   "cell_type": "code",
   "execution_count": null,
   "metadata": {},
   "outputs": [],
   "source": []
  },
  {
   "cell_type": "markdown",
   "metadata": {},
   "source": [
    "--- \n",
    "\n",
    "### <font color=green> Veta 2 </font> \n",
    "\n",
    "Konvergentná postupnosť je ohraničená.   \n",
    "\n",
    "--- "
   ]
  },
  {
   "cell_type": "markdown",
   "metadata": {},
   "source": [
    "--- \n",
    "\n",
    "#### Poznámka 4 \n",
    "\n",
    "* Dobrým príkladom konvergentnej postupnosti, ktorá je ohraničená je napr. postupnosť $\\left\\{\\dfrac{1+n}{2+n}\\right\\}_{n=1}^{\\infty}$ z príkladu uvedeného vyššie. Zrejme zdola je ohraničená napr. hodnotou $0.5$ (a každou menšou od nej) a zhora je ohraničená napr. hodnotou $1$ (a každou väčšou od nej). \n",
    "\n",
    "\n",
    "* Opačné tvrdenie k Vete 2 neplatí. Tzn. ak je postupnosť ohraničená, nemusí byť automaticky konvergentná. Spomeňte si na postupnosť $\\left\\{\\cos\\,n\\right\\}_{n=1}^{\\infty}$ z Poznámky 2. Táto postupnosť je zrejme ohraničená napr. $-1$ zdola a $1$ zhora, no ako sme naznačili, nemá limitu (ani vlastnú, ani nevlastnú). \n",
    "\n",
    "--- "
   ]
  },
  {
   "cell_type": "markdown",
   "metadata": {},
   "source": [
    "***\n",
    "<a id=rady></a>\n",
    " # <font color=brown> Číselné rady </font>"
   ]
  },
  {
   "cell_type": "markdown",
   "metadata": {},
   "source": [
    "Sčítavaním členov postupnosti vzniká rad. Napr. máme postupnosť $1,2,3,4,5,6,\\ldots$, ktorej odpovedá rad $1+2+3+4+5+6+\\ldots$. V tejto časti sa budeme zaoberať **_nekonečnými číselnými radmi_**, čo sú vlastne súčty napr. v tvare \n",
    "\n",
    "$$1+\\frac{1}{2}+\\frac{1}{3}+\\frac{1}{4}+\\ldots$$\n",
    "\n",
    "$$0.4+0.04+0.004+0.0004+\\ldots$$ \n",
    "\n",
    "$$1-1+1-1+\\ldots$$ \n",
    "\n",
    "$$\\frac{1}{2}+\\frac{1}{4}+\\frac{1}{8}+\\frac{1}{16}+\\ldots$$"
   ]
  },
  {
   "attachments": {
    "geometrickyRadKruh.png": {
     "image/png": "[encoded data removed]"
    },
    "radObdlznikov2.png": {
     "image/png": "[encoded data removed]"
    },
    "radTrojuholniky.jpg": {
     "image/jpeg": "[encoded data removed]"
    },
    "radTrojuholniky2.png": {
     "image/png": "[encoded data removed]"
    }
   },
   "cell_type": "markdown",
   "metadata": {},
   "source": [
    "![radObdlznikov2.png](attachment:radObdlznikov2.png) \n",
    "\n",
    "![geometrickyRadKruh.png](attachment:geometrickyRadKruh.png) \n",
    "\n",
    "![radTrojuholniky.jpg](attachment:radTrojuholniky.jpg) \n",
    "\n",
    "![radTrojuholniky2.png](attachment:radTrojuholniky2.png) \n"
   ]
  },
  {
   "cell_type": "markdown",
   "metadata": {},
   "source": [
    "---\n",
    "\n",
    "#### <font color=blue> Príklad 2 </font> \n",
    "\n",
    "Malária je parazitárna infekcia prenášaná bodnutím komára, hlavne v tropických oblastiach sveta. Toto ochorenie existuje odpradávna a v súčasnosti sú tu každoročne stovky miliónov prípadov s miliónmi úmrtí. V 40. rokoch 16. storočia predstavili Západu jezuiti z Peru kôru stromu cinchona, ako prvú liečbu malárie. Liečivo chinín je účinnou látkou v kôre a používa sa dodnes. \n",
    "\n",
    "Predpokladajme, že človek dostane na liečbu malárie $50$ mg dávku chinínu každý deň v rovnakom čase. Po prvej dávke má človek v tele $50$ mg chinínu. Čo po druhej dávke? Telo človeka každý deň metabolizuje časť chinínu, takže po jednom dni zostáva $23$% pôvodného množstva. Po druhej dávke je množstvo chinínu v tele rovnaké ako množstvo od tejto druhej dávky ($50$ mg) plus zvyšky prvej dávky (t.j. $50\\cdot 0.23 = 11.5$ mg), teda celkovo $61.5$ mg.\n",
    "\n",
    "Nech $Q_n$ označuje množstvo (v mg) chinínu v tele pacienta hneď po $n$-tej dávke. Potom máme \n",
    "\n",
    "$$Q_1=\\text{ prvá dávka } = 50$$ \n",
    "\n",
    "$$Q_2=\\text{ druhá dávka + zvyšok z prvej dávky }=50+50(0.23)=61.5$$\n",
    "\n",
    "$$Q_3=\\text{ tretia dávka + zvyšok z predošlých dávok }=50+61.5(0.23)=64.145$$\n",
    "\n",
    "Všimnime si, že vyjadrenie pre $Q3$ môžeme rozpísať dosadením vyjadrenia pre $Q_2$ tak, aby sme videli osobitne príspevok prvej a druhej dávky chinínu. \n",
    "\n",
    "$$Q_3=50+61.5(0.23)=50+(50+50(0.23))\\cdot(0.23)=50+50(0.23)+50(0.23)^2,$$\n",
    "\n",
    "odkiaľ vidíme, že \n",
    "\n",
    "$$Q_3=\\text{ tretia dávka + zvyšok z druhej dávky + zvyšok z prvej dávky}.$$\n",
    "\n",
    "Tento tvar nám môže pomôcť uhadnúť predpis (vzorček) pre ďalšie množstvá chinínu ako napr. $Q_4,Q_5, \\ldots$ alebo aj všeobecný predpis pre $Q_n$. Ak by sme však mali byť dôslední, tak platnosť odvodeného (alebo uhádnutého) vzorca pre $Q_n$ by sme mali dokázať pomocou matematickej indukcie (nebudeme to teraz robiť). \n",
    "\n",
    "Zrejme platí \n",
    "\n",
    "$$Q_4=50+50(0.23)+50(0.23)^2+50(0.23)^3=64.753$$\n",
    "\n",
    "$$Q_5=50+50(0.23)+50(0.23)^2+50(0.23)^3+50(0.23)^4=64.893$$\n",
    "\n",
    "$$\\vdots$$\n",
    "\n",
    "$$Q_{10}=50+50(0.23)+50(0.23)^2+\\ldots+50(0.23)^8+50(0.23)^9=64.935$$\n",
    "\n",
    "Podľa hodnôt $Q_6$ a $Q_{10}$ sa zdá (líšia sa iba minimálne), že množstvo chinínu v tele sa stabilizuje okolo hodnoty $64.9$ mg (viď nasledujúci graf). \n"
   ]
  },
  {
   "cell_type": "code",
   "execution_count": 4,
   "metadata": {},
   "outputs": [
    {
     "data": {
      "image/png": "[encoded data removed]",
      "text/plain": [
       "Graphics object consisting of 1 graphics primitive"
      ]
     },
     "execution_count": 4,
     "metadata": {},
     "output_type": "execute_result"
    }
   ],
   "source": [
    "Qn(n) = 50*(1-(0.23)^n)/(1-0.23) \n",
    "n = 10\n",
    "list_plot([(i,Qn(i)) for i in range(1,n+1)], axes_labels=['$n$ (dávka)', '$Q_n$ (množstvo chinínu v mg)'], axes_labels_size = 1.2, size = 50) "
   ]
  },
  {
   "cell_type": "markdown",
   "metadata": {},
   "source": [
    "---"
   ]
  },
  {
   "cell_type": "markdown",
   "metadata": {},
   "source": [
    "---\n",
    "\n",
    "#### <font color=blue> Príklad 3 </font> \n",
    "\n",
    "Ľudia, ktorí sporia peniaze, to často robia pravidelným odkladaním pevne stanovenej sumy. Predpokladajme, že $1 000$ dolárov je uložených každý rok na sporiaci účet, ktorý ročne zarába $5$% úrok. Nech $B_n$ predstavuje zostatok na účte hneď po $n$-tom vklade v dolároch. Potom \n",
    "\n",
    "$$B_1=\\text{ prvý depozit (vklad) } = 1000$$\n",
    "\n",
    "$$B_2=\\text{ druhý vklad + suma z prvého vkladu (navýšená o úrok) } = 1000 + 1000(1.05) = 2050$$\n",
    "\n",
    "$$B_3=\\text{ tretí vklad + suma z predošlých vkladov (navýšená o úroky) } = 1000 + 2050(1.05)=3152.5$$\n",
    "\n",
    "Podobne ako v Príklade 1, môžeme teraz vyjadriť $B_3$ ako súčet prispevkov prvého a druhého vkladu. \n",
    "\n",
    "$$B_3=1000+2050(1.05)=1000+(1000+1000(1.05))\\cdot(1.05)$$ \n",
    "\n",
    "$$B_3=1000+1000(1.05)+1000(1.05)^2$$\n",
    "\n",
    "$$B_3=\\text{ tretí vklad + suma z druhého vkladu (navýšená o úroky) + suma z prvého vkladu (navýšená o úroky) }$$\n",
    "\n",
    "Toto vyjadrenie pre $B_3$ nám opäť dáva príležitosť všimnúť si určitý vzor/pravidelnosť a uhádnúť tak vzťah napr. pre $B_6$ či $B_{10}$. \n",
    "\n",
    "$$B_6=1000+1000(1.05)+1000(1.05)^2+1000(1.05)^3+1000(1.05)^4+1000(1.05)^5=6801.91$$\n",
    "\n",
    "$$B_{10}=1000+1000(1.05)+1000(1.05)^2+\\ldots+1000(1.05)^8+1000(1.05)^9=12577.89$$\n",
    "\n",
    "Všimnime si na nasledujúcom grafe, že úspory na účte rastú neobmedzene (na rozdiel od Príkladu 1). "
   ]
  },
  {
   "cell_type": "code",
   "execution_count": 5,
   "metadata": {},
   "outputs": [
    {
     "data": {
      "image/png": "[encoded data removed]",
      "text/plain": [
       "Graphics object consisting of 1 graphics primitive"
      ]
     },
     "execution_count": 5,
     "metadata": {},
     "output_type": "execute_result"
    }
   ],
   "source": [
    "def Bn(n):\n",
    "    bn = 0\n",
    "    for i in range(0,n):\n",
    "        bn = bn + 1000*(1.05)^i\n",
    "    return(bn)\n",
    "list_plot([(i,Bn(i)) for i in range(1,n+1)], axes_labels=['$n$ (vklad)', '$B_n$ (množstvo peňazí po $n$-tom vklade)'], axes_labels_size = 1.2, size = 50) "
   ]
  },
  {
   "cell_type": "markdown",
   "metadata": {},
   "source": [
    "---"
   ]
  },
  {
   "cell_type": "markdown",
   "metadata": {},
   "source": [
    "--- \n",
    "\n",
    "### <font color=red> Definícia 4 </font> \n",
    "\n",
    "Nech $\\{a_n\\}_{n=1}^\\infty$ je postupnosť čísel. **_Nekonečný číselný rad_** je formálny výraz\n",
    "\n",
    "$$a_1 + a_2 + \\dots + a_k + \\dots;$$\n",
    "\n",
    "označujeme $\\displaystyle\\sum\\limits_{k=1}^\\infty a_k$. Čísla $a_1, a_2, \\dots$ nazývame **_členy_** radu. Člen $a_r$ nazývame **_$r$-tým členom_** radu. \n",
    "\n",
    "--- "
   ]
  },
  {
   "cell_type": "markdown",
   "metadata": {},
   "source": [
    "Napr. rad $\\displaystyle\\sum\\limits_{k=1}^\\infty k=1+2+3+4+\\ldots$ má členy $a_1=1$, $a_2=2$, $a_3=3$, $a_4=4$ atď. \n",
    "\n",
    "Rad $\\displaystyle\\sum\\limits_{k=1}^\\infty 1000\\cdot(1.05)^{k-1}$ z Príkladu 3 má členy $a_1=1000\\cdot(1.05)^0$, $a_2=1000\\cdot(1.05)^1$, $a_3=1000\\cdot(1.05)^2$, $a_4=1000\\cdot(1.05)^3$ atď. "
   ]
  },
  {
   "cell_type": "markdown",
   "metadata": {},
   "source": [
    "--- \n",
    "\n",
    "### <font color=red> Definícia 5 </font> \n",
    "\n",
    "Rad $\\displaystyle\\sum\\limits_{k=n+1}^\\infty a_k$ sa nazýva **_$n$-tý zvyšok_** alebo tiež **_zvyšok po $n$-tom člene_** radu $\\displaystyle\\sum\\limits_{k=1}^\\infty a_k$.\n",
    "\n",
    "--- "
   ]
  },
  {
   "cell_type": "markdown",
   "metadata": {},
   "source": [
    "Napr. rad $\\displaystyle\\sum\\limits_{k=1}^\\infty \\frac{k}{k+1}=\\frac{1}{2}+\\frac{2}{3}+\\frac{3}{4}+\\frac{4}{5}+\\ldots$ má zvyšok po treťom člene ($n=3$) daný sumou $\\displaystyle\\sum\\limits_{k=4}^\\infty \\frac{k}{k+1}=\\frac{4}{5}+\\frac{5}{6}+\\frac{6}{7}+\\ldots$.  "
   ]
  },
  {
   "cell_type": "markdown",
   "metadata": {},
   "source": [
    "--- \n",
    "\n",
    "### <font color=red> Definícia 6 </font> \n",
    "\n",
    "Nech $\\displaystyle\\sum\\limits_{k=1}^\\infty a_k$ je nekonečný rad a $n \\in \\mathbb{N}$. Potom súčet\n",
    "\n",
    "$$s_n = a_1 + a_2 + \\dots + a_n = \\sum\\limits_{k=1}^n a_k$$ \n",
    "\n",
    "sa nazýva **_$n$-tý čiastočný súčet_** radu $\\displaystyle\\sum\\limits_{k=1}^\\infty a_k$. Postupnosť $\\{s_n\\}_{n=1}^\\infty$ sa nazýva \n",
    "**_postupnosť čiastočných súčtov_** daného radu.\n",
    "\n",
    "--- "
   ]
  },
  {
   "cell_type": "markdown",
   "metadata": {},
   "source": [
    "Napr. v prípade radu $\\displaystyle\\sum\\limits_{k=1}^\\infty \\frac{1}{k}=\\frac{1}{1}+\\frac{1}{2}+\\frac{1}{3}+\\ldots$ vyzerá postupnosť čiastočných súčtov $\\{s_n\\}_{n=1}^\\infty$ nasledovne: \n",
    "\n",
    "$$s_1=\\frac{1}{1}=1$$\n",
    "\n",
    "$$s_2=\\frac{1}{1}+\\frac{1}{2}=\\frac{3}{2}$$\n",
    "\n",
    "$$s_3=\\frac{1}{1}+\\frac{1}{2}+\\frac{1}{3}=\\frac{11}{6}$$\n",
    "\n",
    "$$s_4=\\frac{1}{1}+\\frac{1}{2}+\\frac{1}{3}+\\frac{1}{4}=\\frac{25}{12}$$\n",
    "\n",
    "$$\\vdots$$ \n",
    "\n",
    "V Príklade 2 má postupnosť čiatočných súčtov $\\{Q_n\\}_{n=1}^{\\infty}$ radu $\\displaystyle\\sum\\limits_{k=1}^\\infty 50\\cdot(0.23)^{k-1}$ tieto členy: $Q_1=50,Q_2=50+50\\cdot(0.23)=61.5,Q_3=50+50\\cdot(0.23)+50\\cdot(0.23)^2=64.145,\\ldots$\n",
    "\n",
    "Podobne v Príklade 3 je postupnosť čiastočných súčtov $\\{B_n\\}_{n=1}^{\\infty}$ radu $\\displaystyle\\sum\\limits_{k=1}^\\infty 1000\\cdot(1.05)^{k-1}$ daná členmi ($n$-tými čiastočnými súčtami): $B_1,B_2,B_3,\\ldots$. "
   ]
  },
  {
   "cell_type": "markdown",
   "metadata": {},
   "source": [
    "Je potrebné rozlišovať postupnosť $\\{a_n\\}_{n=1}^{\\infty}$ členov radu a postupnoť $\\{s_n\\}_{n=1}^{\\infty}$ čiastočných súčtov radu. Uvažujme napr. rad \n",
    "$\\displaystyle\\sum\\limits_{k=1}^\\infty k^2$. Potom $\\{a_n\\}_{n=1}^{\\infty}=\\{1,2^2,3^2,4^2,\\ldots\\}=\\{1,4,9,16,\\ldots\\}$ a \n",
    "$\\{s_n\\}_{n=1}^{\\infty}=\\{1,1+2^2,1+2^2+3^2,1+2^2+3^2+4^2,\\ldots\\}=\\{1,5,14,30,\\ldots\\}$"
   ]
  },
  {
   "cell_type": "code",
   "execution_count": 16,
   "metadata": {},
   "outputs": [
    {
     "data": {
      "image/png": "[encoded data removed]",
      "text/plain": [
       "Graphics object consisting of 4 graphics primitives"
      ]
     },
     "execution_count": 16,
     "metadata": {},
     "output_type": "execute_result"
    }
   ],
   "source": [
    "n = var('n')\n",
    "an(n) = n^2\n",
    "def sn(n):\n",
    "    sn = 0\n",
    "    for i in range(1,n+1):\n",
    "        sn = sn + an(i)\n",
    "    return(sn)\n",
    "n = 10\n",
    "list_plot([(i,an(i)) for i in range(1,n+1)], axes_labels=['$n$', '$y$'], axes_labels_size = 1, size = 40) + text(r\"$a_n=n^2$\", (8, 90), color ='blue', fontsize = 14) + list_plot([(i,sn(i)) for i in range(1,n+1)], axes_labels=['$n$', '$y$'], axes_labels_size = 1, size = 40, color = 'red') + text(r\"$s_n$\", (5, 100), color ='red', fontsize = 14) "
   ]
  },
  {
   "attachments": {
    "an_sn_graficky.png": {
     "image/png": "[encoded data removed]"
    }
   },
   "cell_type": "markdown",
   "metadata": {},
   "source": [
    "Nech $\\displaystyle\\sum\\limits_{k=1}^\\infty a_k=\\displaystyle\\sum\\limits_{k=1}^\\infty \\frac{1}{k(k+1)}=\\frac{1}{2}+\\frac{1}{6}+\\frac{1}{12}+\\frac{1}{20}+\\ldots$. Členy tohto radu si môžeme predstaviť ako výšky stĺpčekov (obdĺžnikov), resp. ako obsahy (plochy) stĺpčekov ak majú jednotkovú šírku - viď nasledujúci obrázok vľavo. Postupnosť čiastočných súčtov potom dostaneme tak, že postupne ukladáme stĺpčeky (obdĺžniky) na seba - viď nasledujúci obrázok vpravo. \n",
    "![an_sn_graficky.png](attachment:an_sn_graficky.png) \n",
    "$$\\text{Zdroj: Hallet (2017).}$$ "
   ]
  },
  {
   "cell_type": "markdown",
   "metadata": {},
   "source": [
    "<font color=purple> EXTRA: Dokážete určit vzťah pre $n$-tý čiastočný súčet $s_n$ radu $\\displaystyle\\sum\\limits_{k=1}^\\infty \\frac{1}{k(k+1)}$ ? Využite Sage na experimentovanie a matematickú indukciu na dôkaz vzťahu pre $s_n$. Čomu je rovná limita z $s_n$ pre $n$ idúce do nekonečna? Za správne riešenie s dôkladným zdôvodnením môžete získať dva bonusové body. </font>  "
   ]
  },
  {
   "cell_type": "markdown",
   "metadata": {},
   "source": [
    "--- \n",
    "\n",
    "### <font color=red> Definícia 7 </font> \n",
    "\n",
    "Rad $\\displaystyle\\sum\\limits_{k=1}^\\infty a_k$ sa nazýva **_konvergentný_**, ak existuje vlastná limita postupnosti jeho čiastočných súčtov; číslo $s = \\lim\\limits_{n \\to \\infty} s_n$ sa nazýva **_súčet radu_**. Ak existuje nevlastná limita tejto postupnosti, rad sa nazýva **_divergentný_**; ak táto limita neexistuje, rad sa nazýva **_oscilujúci_**.\n",
    "\n",
    "--- "
   ]
  },
  {
   "cell_type": "markdown",
   "metadata": {},
   "source": [
    "---\n",
    "\n",
    "#### <font color=blue> Príklad 4 </font>\n",
    "\n",
    "Uvažujme nekonečný rad $\\displaystyle\\sum\\limits_{k=1}^\\infty \\frac{1}{2^{k}}=\\frac{1}{2}+\\frac{1}{4}+\\frac{1}{8}+\\frac{1}{16}+\\ldots$ \n",
    "Zrejme $k$-tý člen tohto radu je $a_k=\\dfrac{1}{2^k}$ a pre postupnosť jeho čiastočných súčtov platí: \n",
    "\n",
    "$$s_1=a_1=\\frac{1}{2}$$ \n",
    "\n",
    "$$s_2=a_1+a_2=\\frac{1}{2}+\\frac{1}{4}=\\frac{3}{4}$$ \n",
    "\n",
    "$$s_3=a_1+a_2+a_3=\\frac{1}{2}+\\frac{1}{4}+\\frac{1}{8}=\\frac{7}{8}$$\n",
    "\n",
    "$$s_4=a_1+a_2+a_3+a_4=\\frac{1}{2}+\\frac{1}{4}+\\frac{1}{8}+\\frac{1}{16}=\\frac{15}{16}$$\n",
    "\n",
    "Vo všeobecnosti je možné ukázať (napr. pomocou matematickej indukcie alebo viď súčet konečného geometrického radu nižšie), že pre $n$-tý čiastočný súčet daného radu platí \n",
    "\n",
    "$$s_n=a_1+\\ldots+a_n=\\dfrac{2^n-1}{2^n}=1-\\dfrac{1}{2^n}.$$ \n",
    "\n",
    "Zrejme (vykreslite si aj graf pre $s_n$) platí $\\lim\\limits_{n\\to\\infty}s_n=\\lim\\limits_{n\\to\\infty}\\left(1-\\dfrac{1}{2^n}\\right)=1$. Táto limita nám vlastne hovorí, že súčet radu $\\displaystyle\\sum\\limits_{k=1}^\\infty \\frac{1}{2^{k}}$ je $1$, t.j. $\\displaystyle\\sum\\limits_{k=1}^\\infty \\frac{1}{2^{k}}=1$. "
   ]
  },
  {
   "cell_type": "code",
   "execution_count": 15,
   "metadata": {},
   "outputs": [
    {
     "data": {
      "text/html": [
       "<html><script type=\"math/tex; mode=display\">\\newcommand{\\Bold}[1]{\\mathbf{#1}}\\frac{2^{n} - 1}{2^{n}}</script></html>"
      ],
      "text/plain": [
       "(2^n - 1)/2^n"
      ]
     },
     "metadata": {},
     "output_type": "display_data"
    },
    {
     "data": {
      "text/html": [
       "<html><script type=\"math/tex; mode=display\">\\newcommand{\\Bold}[1]{\\mathbf{#1}}\\left[\\frac{1}{2}, \\frac{3}{4}, \\frac{7}{8}, \\frac{15}{16}, \\frac{31}{32}, \\frac{63}{64}, \\frac{127}{128}, \\frac{255}{256}, \\frac{511}{512}, \\frac{1023}{1024}\\right]</script></html>"
      ],
      "text/plain": [
       "[1/2, 3/4, 7/8, 15/16, 31/32, 63/64, 127/128, 255/256, 511/512, 1023/1024]"
      ]
     },
     "metadata": {},
     "output_type": "display_data"
    },
    {
     "data": {
      "text/html": [
       "<html><script type=\"math/tex; mode=display\">\\newcommand{\\Bold}[1]{\\mathbf{#1}}\\left[0.500000000000000, 0.750000000000000, 0.875000000000000, 0.937500000000000, 0.968750000000000, 0.984375000000000, 0.992187500000000, 0.996093750000000, 0.998046875000000, 0.999023437500000\\right]</script></html>"
      ],
      "text/plain": [
       "[0.500000000000000,\n",
       " 0.750000000000000,\n",
       " 0.875000000000000,\n",
       " 0.937500000000000,\n",
       " 0.968750000000000,\n",
       " 0.984375000000000,\n",
       " 0.992187500000000,\n",
       " 0.996093750000000,\n",
       " 0.998046875000000,\n",
       " 0.999023437500000]"
      ]
     },
     "metadata": {},
     "output_type": "display_data"
    }
   ],
   "source": [
    "# vypocet a vypis prvych desiatich clenov postupnosti ciastocnych suctov radu \n",
    "# pomocou symbolickej sumy v Sage - funkcia symbolic_sum()\n",
    "from sage.calculus.calculus import symbolic_sum\n",
    "k,n = var('k,n') \n",
    "s(n) = symbolic_sum(1/(2^k), k, 1, n) \n",
    "show(s(n)) # vypis s_n\n",
    "cleny = [s(n) for n in range(1,11)]\n",
    "show(cleny) # vypis prvych 10 clenov postupnosti s_n presne \n",
    "cleny = [N(s(n)) for n in range(1,11)]\n",
    "show(cleny)# vypis prvych 10 clenov postupnosti s_n v desatinnych cislach "
   ]
  },
  {
   "cell_type": "code",
   "execution_count": 7,
   "metadata": {},
   "outputs": [
    {
     "data": {
      "text/html": [
       "<html><script type=\"math/tex; mode=display\">\\newcommand{\\Bold}[1]{\\mathbf{#1}}1</script></html>"
      ],
      "text/plain": [
       "1"
      ]
     },
     "metadata": {},
     "output_type": "display_data"
    }
   ],
   "source": [
    "# vypocet suctu radu pomocou limity postupnoti ciastocnych suctov radu \n",
    "n = var('n')\n",
    "s = limit(1-1/(2^n), n = oo)\n",
    "show(s)"
   ]
  },
  {
   "cell_type": "code",
   "execution_count": 9,
   "metadata": {},
   "outputs": [
    {
     "data": {
      "text/html": [
       "<html><script type=\"math/tex; mode=display\">\\newcommand{\\Bold}[1]{\\mathbf{#1}}1</script></html>"
      ],
      "text/plain": [
       "1"
      ]
     },
     "metadata": {},
     "output_type": "display_data"
    }
   ],
   "source": [
    "# vypocet suctu radu pomocou symbolickej sumy v Sage \n",
    "from sage.calculus.calculus import symbolic_sum\n",
    "k = var('k') \n",
    "s = symbolic_sum(1/(2^k), k, 1, oo) \n",
    "show(s)"
   ]
  },
  {
   "cell_type": "markdown",
   "metadata": {},
   "source": [
    "Ďalšie informácie ohľadom výpočtu súčtu (nekonečného) radu pomocou funkcie `symbolic_sum()` je možné nájsť v [dokumentácii](https://doc.sagemath.org/html/en/reference/calculus/sage/calculus/calculus.html) Sage. Je tam možnosť vybrať si aj iný algoritmus pre výpočet (v prípade zlyhania). "
   ]
  },
  {
   "cell_type": "markdown",
   "metadata": {},
   "source": [
    "--- "
   ]
  },
  {
   "cell_type": "markdown",
   "metadata": {},
   "source": [
    "Rad $\\displaystyle\\sum\\limits_{k=1}^\\infty \\frac{1}{2^{k}}$ ale tiež rady spomínané v Príklade 2 a v Príklade 3 sú práve príkladmi radov, o ktorých pojednáva Definícia 8. "
   ]
  },
  {
   "cell_type": "markdown",
   "metadata": {},
   "source": [
    "--- \n",
    "\n",
    "### <font color=red> Definícia 8 </font> \n",
    "\n",
    "Nech $a_1 > 0,q$ sú reálne čísla. Rad $\\displaystyle\\sum\\limits_{k=1}^\\infty a_1q^{k-1} = a_1 + a_1q +$ $ a_1q^2 + \\dots$ sa nazýva **_geometrický rad_** s prvým členom $a_1$ a kvocientom $q$.\n",
    "\n",
    "--- "
   ]
  },
  {
   "cell_type": "markdown",
   "metadata": {},
   "source": [
    "$n$-tý čiastočný súčet geometrického radu je \n",
    "\n",
    "$$\n",
    "s_n = a_1 + a_1q + a_1q^2 + \\dots + a_1q^{n-1}\n",
    "$$\n",
    "\n",
    "z čoho máme\n",
    "\n",
    "$$-qs_n = -a_1q - a_1q^2 - \\dots - a_1q^{n-1} - a_1q^n$$\n",
    "\n",
    "Sčítaním týchto rovníc dostaneme\n",
    "\n",
    "$$(1-q)s_n = a_1(1-q^n)$$\n",
    "\n",
    "Teda pre každé $n \\in \\mathbb{N}$ a  $q \\neq 1$ platí\n",
    "\n",
    "$$s_n = a_1\\dfrac{1-q^n}{1-q}$$ \n",
    "\n",
    "Ak $q \\in (-1,1)$, tak $\\lim\\limits_{n \\to \\infty} q^n = 0$, teda $\\lim\\limits_{n \\to \\infty} (1 - q^n) = 1$ a\n",
    "\n",
    "$$\\lim\\limits_{n \\to \\infty} s_n = \\dfrac{a_1}{1-q}$$ \n",
    "\n",
    "Ak  $q \\in \\langle 1,\\infty)$, tak $\\lim\\limits_{n \\to \\infty} 1 - q^n = -\\infty$ a $\\lim\\limits_{n \\to \\infty} s_n = +\\infty$.\n",
    "\n",
    "Ak $q \\in (-\\infty, -1 \\rangle$, tak $s_n$ má pre párne $n$ opačné znamienko, než pre nepárne $n$, z čoho vyplýva, že $\\lim\\limits_{n \\to \\infty} s_n$ neexistuje.\n",
    "\n",
    "Teda geometrický rad s kvocientom $q$ a nenulovým prvým členom konverguje práve vtedy, keď $q \\in (-1,1)$."
   ]
  },
  {
   "cell_type": "markdown",
   "metadata": {},
   "source": [
    "Pre rad v Príklade 2 zrejme platí, že $a_1=50$, $q=0.23$ a pre rad v Príklade 3 platí $a_1=1000$, $q=1.05$. "
   ]
  },
  {
   "cell_type": "markdown",
   "metadata": {},
   "source": [
    "<font color=orange> Na základe uvedených úvah, sformulujte všeobecný vzťah pre $Q_n$ v Príklade 2 a pre $B_n$ v Príklade 3. Čo viete povedať o konvergencii postupností čiastočných súčtov $\\{Q_n\\}_{n=1}^{\\infty}$, $\\{B_n\\}_{n=1}^{\\infty}$ ? Čo z toho vyplýva pre konvergenciu príslušných nekonečných radov? Vypočíajte (v Sage) hodnoty $Q_{40}$, $B_{100}$ a interpretujte ich v kontexte daných príkladov. </font> "
   ]
  },
  {
   "cell_type": "code",
   "execution_count": null,
   "metadata": {},
   "outputs": [],
   "source": []
  },
  {
   "cell_type": "markdown",
   "metadata": {},
   "source": [
    "---\n",
    "\n",
    "#### <font color=blue> Príklad 5 </font> \n",
    "\n",
    "Ktoré racionálne číslo (podiel dvoch celých čísel) má desatinný rozvoj $0.1212\\overline{12}$ ? \n",
    "\n",
    "<ins> Riešenie: </ins>\n",
    "\n",
    "Daný desatinný rozvoj $0.12+0.0012+0.000012+\\ldots$ odpovedá nekonečnému radu v tvare $\\dfrac{12}{100}+\\dfrac{12}{100^2}+\\dfrac{12}{100^3}+\\ldots$, t.j.\n",
    "\n",
    "$$0.12+0.0012+0.000012+\\ldots=\\dfrac{12}{100}+\\dfrac{12}{100^2}+\\dfrac{12}{100^3}+\\ldots$$\n",
    "\n",
    "čo je v podstate geometrický rad, kde $a_1=\\dfrac{12}{100}$, $q=\\dfrac{1}{100}<1$. Pre súčet $s$ geomterického radu teda platí $s=\\dfrac{a_1}{1-q}=\\dfrac{\\frac{12}{100}}{1-\\frac{1}{100}}=\\dfrac{12}{100}\\cdot\\dfrac{1}{\\frac{99}{100}}=\\dfrac{12}{100}\\cdot\\dfrac{100}{99}=\\dfrac{12}{99}=\\dfrac{4}{33}$. \n",
    "\n",
    "Preto $0.1212\\overline{12}=\\dfrac{4}{33}$. \n",
    "\n",
    "---"
   ]
  },
  {
   "cell_type": "markdown",
   "metadata": {},
   "source": [
    "--- \n",
    "\n",
    "### <font color=red> Definícia 9 </font> \n",
    "\n",
    "Rad $\\displaystyle\\sum\\limits_{k=1}^\\infty \\dfrac{1}{k}$ sa nazýva **_harmonický rad_**.\n",
    "\n",
    "--- "
   ]
  },
  {
   "cell_type": "markdown",
   "metadata": {},
   "source": [
    "**S využitím geometrického radu teraz dokážeme, že harmonický rad diverguje**. \n",
    "\n",
    "Zvoľme si ľubovoľné, pevné prirodzené číslo $k$. \n",
    "\n",
    "$$\\sum\\limits_{n=1}^\\infty \\dfrac{1}{n}=1+\\overbrace{\\left(\\frac{1}{2}+\\frac{1}{3}+\\ldots+\\frac{1}{k+1}\\right)}^\\text{$k$ členov}+\\overbrace{\\left(\\frac{1}{k+2}+\\frac{1}{k+3}+\\ldots+\\frac{1}{k^2+k+1}\\right)}^\\text{$k^2$ členov}+\\overbrace{\\frac{1}{k^2+k+2}+\\frac{1}{k^2+k+3}+\\ldots+\\frac{1}{k^3+k^2+k+1}}^\\text{$k^3$ členov}+\\ldots>$$\n",
    "\n",
    "$$>1+\\frac{k}{k+1}+\\frac{k^2}{k^2+k+1}+\\frac{k^3}{k^3+k^2+k+1}+\\ldots>$$\n",
    "\n",
    "$$>1+\\left(\\frac{k}{k+1}\\right)+\\left(\\frac{k}{k+1}\\right)^2+\\left(\\frac{k}{k+1}\\right)^3+\\ldots=\\dfrac{1}{1-\\frac{k}{k+1}}=k+1.$$\n",
    "\n",
    "Využili sme súčet geometrického radu kde $a_1=1$, $q=\\frac{k}{k+1}$ a ukázali sme, že pre ľubovoľné prirodzené číslo $k$ platí \n",
    "\n",
    "$$\\sum\\limits_{n=1}^\\infty \\dfrac{1}{n}>k+1.$$ \n",
    "\n",
    "Čiže ak budeme $k$ ľubovoľne zväčšovať, uvedená nerovnosť ostane v platnosti a teda $\\displaystyle\\sum\\limits_{n=1}^\\infty \\dfrac{1}{n}$ bude väčšie ako ľubovoľne veľké prirodzené čislo. Inými slovami z tejto úvahy vyplýva, že $\\displaystyle\\sum\\limits_{n=1}^\\infty \\dfrac{1}{n}$  rastie neobmedzene (do nekonečna), čiže harmonický rad diverguje. "
   ]
  },
  {
   "cell_type": "markdown",
   "metadata": {},
   "source": [
    "Nasledujúca veta dáva do súvisu konvergenciu radu s konvergenciou jeho $n$-tého zvyšku (resp. zvyšku po $n$-tom člene). "
   ]
  },
  {
   "cell_type": "markdown",
   "metadata": {},
   "source": [
    "--- \n",
    "\n",
    "### <font color=green> Veta 3 </font> \n",
    "\n",
    "Nech $n \\in \\mathbb{N}$. Potom rad $\\displaystyle\\sum\\limits_{k=1}^\\infty a_k$ konverguje (resp. diverguje, resp. osciluje) práve vtedy, keď konverguje (resp. diverguje, resp. osciluje) jeho $n$-tý zvyšok $\\displaystyle\\sum\\limits_{k=n+1}^\\infty a_k$.\n",
    "\n",
    "--- "
   ]
  },
  {
   "cell_type": "markdown",
   "metadata": {},
   "source": [
    "**Veta 3 v podstate hovorí o tom, že konečný počet členov nekonečného radu nemá vplyv na jeho konvergenciu.** Inými slovami, z hľadiska konvergencie nekonečného radu, jeho prvých $n$ členov môžu byť akékoľvek reálne čísla a nebudú mať vplyv na konveregenciu tohto nekonečného radu. Podstatné je z hľadiska konvergencie ako sa budú správať členy nekonečného radu od $n+1$ člena ďalej. "
   ]
  },
  {
   "cell_type": "markdown",
   "metadata": {},
   "source": [
    "--- \n",
    "\n",
    "### <font color=green> Veta 4 </font> \n",
    "\n",
    "Nech $\\displaystyle\\sum\\limits_{k=1}^\\infty a_k, \\displaystyle\\sum\\limits_{k=1}^\\infty b_k$ sú rady, $a = \\displaystyle\\sum\\limits_{k=1}^\\infty a_k, b = \\displaystyle\\sum\\limits_{k=1}^\\infty b_k$. Potom\n",
    "\n",
    "$$\\sum\\limits_{k=1}^\\infty (a_k \\pm b_k) = a \\pm b, \\sum\\limits_{k=1}^\\infty ca_k = ca.$$\n",
    "\n",
    "--- "
   ]
  },
  {
   "cell_type": "markdown",
   "metadata": {},
   "source": [
    "---\n",
    "\n",
    "#### Poznámka 5 \n",
    "\n",
    "Toto tvrdenie platí (až na výnimky, ktoré súvisia s limitami typu $\\infty - \\infty$) aj v prípadoch, keď niektorý z radov diverguje.\n",
    "\n",
    "---"
   ]
  },
  {
   "cell_type": "markdown",
   "metadata": {},
   "source": [
    "Už sme si ukázali, že (geometrický) rad $\\displaystyle\\sum\\limits_{k=1}^\\infty \\dfrac{1}{2^{k}}$ konverguje. Všimnime si zaujímavú vlasnosť, ktorá platí pre limitu postupnosti jeho členov. Zrejme $\\lim\\limits_{n \\to \\infty} \\dfrac{1}{2^{n}} = 0$ (v prípade potreby si vykreslite v Sage graf). O tom, že táto vlastnosť platí pre všetky konvergentné rady hovorí Veta 5. Ide o tzv. **nutnú** (nie však postačujúcu) **podmienku konvergencie nekonečného radu** - pozri Poznámku 6. "
   ]
  },
  {
   "cell_type": "markdown",
   "metadata": {},
   "source": [
    "--- \n",
    "\n",
    "### <font color=green> Veta 5 </font> \n",
    "\n",
    "Ak rad $\\displaystyle\\sum\\limits_{k=1}^\\infty a_k$ konverguje, tak $\\lim\\limits_{n \\to \\infty} a_n = 0$. \n",
    "\n",
    "<font color=purple> EXTRA: Dôkaz: Nech $\\{s_n\\}_{n=1}^\\infty$ je postupnosť čiastočných súčtov daného radu a $s = \\lim\\limits_{n \\to \\infty} s_n$ je jeho súčet. Zrejme platí tiež $\\lim\\limits_{n \\to \\infty} s_{n-1} = s$;  $\\lim\\limits_{n \\to \\infty} a_n = \\lim\\limits_{n \\to \\infty} (s_n - s_{n-1}) = \\lim\\limits_{n \\to \\infty} s_n - \\lim\\limits_{n \\to \\infty} s_{n-1} = s-s = 0$. </font>\n",
    "\n",
    "--- "
   ]
  },
  {
   "cell_type": "markdown",
   "metadata": {},
   "source": [
    "O tom, že niektoré rady nekonvergujú, je možné rýchlo rozhodnúť na základe nasledujúceho dôsledku Vety 5. Dôsledok 1 je v podstate obmena Vety 5. Napr. súčet radu $\\displaystyle\\sum\\limits_{k = 1}^\\infty k=1+2+3+4+\\ldots$ zrejme rastie nad akúkoľvek hodnotu a je vidieť, že $\\lim\\limits_{n \\to \\infty}n=\\infty$. "
   ]
  },
  {
   "cell_type": "markdown",
   "metadata": {},
   "source": [
    "--- \n",
    "\n",
    "#### <font color=green> Dôsledok 1 </font> \n",
    "\n",
    "Ak $\\displaystyle\\lim\\limits_{n \\to \\infty} a_n \\neq 0$ alebo neexistuje, tak rad $\\sum\\limits_{k = 1}^\\infty a_k$ nekonverguje.\n",
    "\n",
    "--- \n"
   ]
  },
  {
   "cell_type": "markdown",
   "metadata": {},
   "source": [
    "---\n",
    "\n",
    "#### Poznámka 6 \n",
    "\n",
    "Ak $\\displaystyle\\lim\\limits_{n \\to \\infty} a_n = 0$, tak rad $\\displaystyle\\sum\\limits_{k = 1}^\\infty a_k$ nemusí byť konvergentný - harmonický rad $\\displaystyle\\sum\\limits_{k=1}^\\infty \\frac{1}{k}$ je divergentný, napriek tomu je $\\displaystyle\\lim\\limits_{n \\to \\infty} \\frac{1}{n} = 0 $. To vlastne znamená, že podmienka $\\lim\\limits_{n \\to \\infty} a_n = 0$ je **nutnou podmienkou konvergencie radu** (ak rad konverguje, potom nutne platí $\\lim\\limits_{n \\to \\infty} a_n = 0$) a **nie postačujúcou** podmienkou konvergencie radu (ak platí $\\lim\\limits_{n \\to \\infty} a_n = 0$, nemusí byť rad konvergentný). \n",
    "\n",
    "---"
   ]
  },
  {
   "attachments": {
    "radObdlznikov.png": {
     "image/png": "[encoded data removed]"
    }
   },
   "cell_type": "markdown",
   "metadata": {},
   "source": [
    "V ďalšej časti tejto témy sa pozrieme bližšie na **rady s nezápornými členmi**, t.j. také rady $\\displaystyle\\sum\\limits_{k = 1}^\\infty a_k$, kde $a_k\\ge0\\,\\forall k\\in\\mathbb{N}$. Tieto rady majú špeciálne postavenie medzi nekonečnými radmi. Uvedomme si, že vo všeobecnosti môže byť ťažké určiť súčet nejakého radu. Avšak pri radoch s nezápornými členmi existuje mnoho kritérií, ktoré nám pomáhajú rozhodnúť aspoň o konvergencii/divergencii týchto radov. \n",
    "\n",
    "Rad s nezápornými členmi (resp. jeho členy) si môžeme predstaviť napr. ako obsahy obdĺžnikov (viď obrázok) s jednotkovou šírkou a meniacou sa výškou. Potom súčet takého radu je vlastne obsah (plocha) oblasti pozostávajúcej z daných obdĺžnikov. Súčet plôch (obsahov) prvých $n$ obdĺžnikov predstavuje $n$-tý čiastočný súčet $s_n$ uvažovaného radu. \n",
    "\n",
    "![radObdlznikov.png](attachment:radObdlznikov.png) \n",
    "$$\\text{Zdroj: Goldstein et al. (2017).}$$ "
   ]
  },
  {
   "cell_type": "markdown",
   "metadata": {},
   "source": [
    "Pozrime sa napr. na výpočet súčtu radu $\\displaystyle\\sum\\limits_{k = 1}^\\infty\\frac{1}{k^2}$ pomocou modulu v Sage nazývaného Maxima. Podľa nasledujúceho kódu dostaneme $\\displaystyle\\sum\\limits_{k = 1}^\\infty\\frac{1}{k^2}=\\frac{\\pi^2}{6}$. "
   ]
  },
  {
   "cell_type": "code",
   "execution_count": 6,
   "metadata": {},
   "outputs": [
    {
     "data": {
      "text/html": [
       "<html><script type=\"math/tex; mode=display\">\\newcommand{\\Bold}[1]{\\mathbf{#1}}\\frac{1}{6} \\, \\pi^{2}</script></html>"
      ],
      "text/plain": [
       "1/6*pi^2"
      ]
     },
     "metadata": {},
     "output_type": "display_data"
    }
   ],
   "source": [
    "s = 'sum (1/k^2,k,1,inf), simpsum'\n",
    "show(SR(sage.calculus.calculus.maxima(s)))"
   ]
  },
  {
   "cell_type": "code",
   "execution_count": 12,
   "metadata": {},
   "outputs": [
    {
     "data": {
      "text/html": [
       "<html><script type=\"math/tex; mode=display\">\\newcommand{\\Bold}[1]{\\mathbf{#1}}\\frac{1}{6} \\, \\pi^{2}</script></html>"
      ],
      "text/plain": [
       "1/6*pi^2"
      ]
     },
     "metadata": {},
     "output_type": "display_data"
    }
   ],
   "source": [
    "from sage.calculus.calculus import symbolic_sum\n",
    "k = var('k') \n",
    "s = symbolic_sum(1/(k^2), k, 1, oo) \n",
    "show(s)"
   ]
  },
  {
   "cell_type": "markdown",
   "metadata": {},
   "source": [
    "--- \n",
    "\n",
    "### <font color=red> Definícia 10 </font> \n",
    "\n",
    "Rad $\\displaystyle\\sum\\limits_{k=1}^\\infty b_k$ s nezápornými členmi sa nazýva **_majorantný rad_** k radu $\\displaystyle\\sum\\limits_{k=1}^\\infty a_k$, ak pre všetky $k \\in \\mathbb{N}$ platí $a_k \\leq b_k$.\n",
    "\n",
    "--- "
   ]
  },
  {
   "cell_type": "markdown",
   "metadata": {},
   "source": [
    "--- \n",
    "\n",
    "### <font color=green> Veta 6 (porovnávacie kritérium) </font> \n",
    "\n",
    "Ak k radu $\\displaystyle\\sum\\limits_{k=1}^\\infty a_k$  s nezápornými členmi existuje majorantný konvergentný rad, tak rad $\\displaystyle\\sum\\limits_{k=1}^\\infty a_k$ konverguje. \n",
    "\n",
    "<font color=purple> EXTRA: Dôkaz:  Z podmienky $a_k \\leq b_k$ z existencie majorantného konvergentného radu máme, že pre každé prirodzené číslo $n$ platí \n",
    "\n",
    "$$s_n = \\sum\\limits_{k=1}^n a_k \\leq \\sum\\limits_{k=1}^n b_k = S_n.$$ \n",
    "\n",
    "Ďalej, rad $\\displaystyle\\sum\\limits_{k=1}^\\infty b_k$ konverguje, teda postupnosť $\\{S_n\\}_{n=1}^\\infty$ má limitu $S$. Teda postupnosť $\\{s_n\\}_{n=1}^\\infty$ je zhora ohraničená a neklesajúca (z nezápornosti členov $a_n$ vyplýva $s_{n+1} = s_n + a_n \\geq s_n$), čiže má limitu. \n",
    "</font>\n",
    "\n",
    "--- "
   ]
  },
  {
   "cell_type": "markdown",
   "metadata": {},
   "source": [
    "--- \n",
    "\n",
    "#### <font color=green> Dôsledok 2 </font> \n",
    "\n",
    "Ak k **divergentnému** radu $\\displaystyle\\sum\\limits_{k=1}^\\infty a_k$  s nezápornými členmi existuje majorantný rad $\\displaystyle\\sum\\limits_{k=1}^\\infty b_k$, tak rad $\\sum\\limits_{k=1}^\\infty b_k$ tiež diverguje. \n",
    "\n",
    "--- \n"
   ]
  },
  {
   "cell_type": "markdown",
   "metadata": {},
   "source": [
    "---\n",
    "\n",
    "#### <font color=blue> Príklad 6 </font> \n",
    "\n",
    "Vyšetrite konvergenciu radu $\\displaystyle\\sum\\limits_{k=1}^\\infty \\dfrac{1}{k!}$, kde $k! = 1\\cdot 2 \\cdot 3 \\cdot \\dots \\cdot k$. \n",
    "\n",
    "<ins> Riešenie: </ins>\n",
    "\n",
    "Pre $k \\geq 2$ platí $2 \\geq 2, 3 \\geq 2,\\dots, k \\geq 2$, z čoho vynásobením oboch strán nerovností máme\n",
    "\n",
    "$$1\\cdot 2 \\cdot \\dots \\cdot k = k! \\geq 2^{k-1}   \\geq \\frac{1}{2}\\cdot 2^k$$\n",
    "\n",
    "teda\n",
    "\n",
    "$$\\dfrac{1}{k!} \\leq \\dfrac{2}{2^k} = 2\\left ( \\dfrac{1}{2} \\right) ^k.$$\n",
    "\n",
    "Rad $\\displaystyle\\sum\\limits_{k = 1}^\\infty 2\\left ( \\dfrac{1}{2} \\right) ^k$ je teda majorantný rad k radu $\\displaystyle\\sum\\limits_{k = 1}^\\infty \\dfrac{1}{k!}$, a keďže je to geometrický rad s prvým členom $2\\cdot \\frac{1}{2}= 1$ a kvocientom $\\frac{1}{2} \\in (-1,1)$, je konvergentný. Podľa porovnávacieho kritéria je teda rad $\\displaystyle\\sum\\limits_{k=1}^\\infty \\dfrac{1}{k!}$ konvergentný.\n",
    "\n",
    "---"
   ]
  },
  {
   "cell_type": "markdown",
   "metadata": {},
   "source": [
    "---\n",
    "\n",
    "#### <font color=blue> Príklad 7 </font> \n",
    "\n",
    "Vyšetrite konvergenciu radu $\\displaystyle\\sum\\limits_{k=1}^\\infty \\dfrac{1}{\\ln(k+1)}$. \n",
    "\n",
    "<ins> Riešenie: </ins>\n",
    "\n",
    "Pre každé $k \\geq 1$ platí $\\ln(k+1) \\leq k+1$ (to vyplýva napr. z porovnania grafov lineárnej a logaritmickej funkcie), teda\n",
    "\n",
    "$$\\dfrac{1}{\\ln(k+1)} \\geq \\dfrac{1}{k+1}$$\n",
    "\n",
    "Rad $\\displaystyle\\sum\\limits_{k=1}^\\infty \\dfrac{1}{\\ln(k+1)}$ je teda majorantný k radu $\\displaystyle\\sum\\limits_{k=1}^\\infty \\dfrac{1}{k+1}$, čo je druhý zvyšok (resp. zvyšok po druhom člene) harmonického radu (takže je divergentný podľa Vety 3 vzhľadom k tomu, že samotný harmonický rad je divergentný); čiže $\\displaystyle\\sum\\limits_{k=1}^\\infty \\dfrac{1}{\\ln(k+1)}$ podľa Dôsledku 2 diverguje.\n",
    "\n",
    "---"
   ]
  },
  {
   "cell_type": "markdown",
   "metadata": {},
   "source": [
    "---\n",
    "\n",
    "#### Poznámka 8 \n",
    "\n",
    "Prax (riešenie úloh) pomáha rozvíjať intuíciu pre rýchly výber radov, s ktorými je vhodné robiť porovnanie. Všeobecným pravidlom je zvoliť rad založený na dominantnom  člene resp. výraze (funkcii) vystupujúcom v $a_n$. Je užitočné poznamenať, že faktoriály dominujú (ich grafy rastú rýchlejšie ako) exponenciály, ktoré dominujú algebraické funkcie (napr. polynómy) a tie dominujú logaritmy (viď Príklad 6). \n",
    "\n",
    "--- "
   ]
  },
  {
   "cell_type": "markdown",
   "metadata": {},
   "source": [
    "--- \n",
    "\n",
    "### <font color=green> Veta 7 (podielové kritérium, nelimitné) </font> \n",
    "\n",
    "Nech $\\displaystyle\\sum\\limits_{k=1}^\\infty a_k$ je rad s kladnými členmi. \n",
    "\n",
    "1. Ak existuje číslo $q < 1$ také, že pre všetky $n  \\in \\mathbb{N}$ platí $\\dfrac{a_{n+1}}{a_n} < q$, tak rad $\\displaystyle\\sum\\limits_{k=1}^\\infty a_k$ je konvergentný. \n",
    "\n",
    "2. Ak  pre všetky $n \\in \\mathbb{N}$ je $\\dfrac{a_{n+1}}{a_n} \\geq 1$, tak rad $\\displaystyle\\sum\\limits_{k=1}^\\infty a_k$ je divergentný. \n",
    "\n",
    "<font color=purple> EXTRA: Dôkaz:  Uvažujme nasledujúcu úpravu radu $\\displaystyle\\sum\\limits_{k=1}^\\infty a_k$ (ktorá nemení jeho súčet):\n",
    "\n",
    "$$a_1 + a_2 + a_3 + a_4 + \\dots = a_1\\left ( 1 + \\frac{a_2}{a_1} + \\frac{a_3}{a_1} + \\frac{a_4}{a_1} + \\dots \\right ) = a_1 \\left ( 1 + \\frac{a_2}{a_1} + \\frac{a_3}{a_2}\\cdot\\frac{a_2}{a_1} + \\frac{a_4}{a_3}\\cdot\\frac{a_3}{a_2}\\cdot\\frac{a_2}{a_1} + \\dots\\right )$$ \n",
    "\n",
    "1. Keďže podľa predpokladu je $\\dfrac{a_{n+1}}{a_n} < q$ pre všetky $n \\in \\mathbb{N}$, tak\n",
    "$$a_1 \\left ( 1 + \\frac{a_2}{a_1} + \\frac{a_3}{a_2}\\frac{a_2}{a_1} + \\frac{a_4}{a_3}\\frac{a_3}{a_2}\\frac{a_2}{a_1} + \\dots\\right ) \\leq a_1(1 + q + q\\cdot q + q\\cdot q \\cdot q + \\dots ).$$\n",
    "Teda k radu $\\displaystyle\\sum\\limits_{k=1}^\\infty a_k$ existuje majorantný geometrický rad $a_1\\displaystyle\\sum\\limits_{k=1}^\\infty q^{k-1}$ s prvým členom $a_1$ a kladným kvocientom $q < 1$; keďže tento geometrický rad je konvergentný, podľa porovnávacieho kritéria je rad $\\displaystyle\\sum\\limits_{k=1}^\\infty a_k$ konvergentný. \n",
    "\n",
    "\n",
    "2. Ak pre každé $n \\in \\mathbb{N}$ je $\\dfrac{a_{n+1}}{a_n} \\geq 1$, tak\n",
    "$$a_1 \\left ( 1 + \\frac{a_2}{a_1} + \\frac{a_3}{a_2}\\frac{a_2}{a_1} + \\frac{a_4}{a_3}\\frac{a_3}{a_2}\\frac{a_2}{a_1} + \\dots\\right ) \\geq a_1(1 + 1 + 1\\cdot 1 + 1\\cdot 1 \\cdot 1 + \\dots ),$$\n",
    "z čoho dostávame, že $s_n \\geq a_1 \\cdot n$. Postupnosť $\\{s_n\\}_{n=1}^\\infty$ je teda rastúca, ale nie je zhora ohraničená, takže $\\lim\\limits_{n\\to \\infty} s_n = +\\infty$ a rad $\\displaystyle\\sum\\limits_{k=1}^\\infty a_k$ diverguje.\n",
    "\n",
    "\n",
    "</font>\n",
    "\n",
    "--- \n"
   ]
  },
  {
   "cell_type": "markdown",
   "metadata": {},
   "source": [
    "---\n",
    "\n",
    "#### Poznámka 8 \n",
    "\n",
    "Veta o podielovom kritériu platí aj v prípade, že nerovnosti pre podiel $\\dfrac{a_{n+1}}{a_n}$ platia pre všetky $n$ väčšie ako určité $n_0 \\in \\mathbb{N}$.\n",
    "\n",
    "---"
   ]
  },
  {
   "cell_type": "markdown",
   "metadata": {},
   "source": [
    "--- \n",
    "\n",
    "### <font color=green> Veta 8 (podielové kritérium, limitné) </font> \n",
    "\n",
    "Nech $\\displaystyle\\sum\\limits_{k=1}^\\infty a_k$ je rad s kladnými členmi a $L = \\displaystyle\\lim\\limits_{n \\to \\infty} \\dfrac{a_{n+1}}{a_n}$. \n",
    "\n",
    "1. Ak $L < 1$, tak daný rad je konvergentný. \n",
    "\n",
    "2. Ak $L > 1$, tak daný rad je divergentný.\n",
    "\n",
    "3. Ak $L = 1$, tak o konvergencii daného radu podľa tohto kritéria nemožno rozhodnúť. \n",
    "\n",
    "<font color=purple> EXTRA: Dôkaz:  Ak $L < 1$, tak existuje $\\varepsilon > 0$ také, že interval $(L - \\varepsilon, L + \\varepsilon) \\subset (0,1)$ a tiež existuje $L'$ také, že $L + \\varepsilon < L' < 1$. Ďalej platí (z existencie limity $L$), že pre všetky $n$ od istého $n_0$ počnúc je $\\dfrac{a_{n+1}}{a_n} \\in (L - \\varepsilon, L + \\varepsilon)$; teda pre skoro všetky $n$ je $\\dfrac{a_{n+1}}{a_n} < L' < 1$, čo podľa nelimitného podielového kritéria znamená, že daný rad konverguje. <br/> \n",
    "Podobne, ak $L > 1$, tak existuje $\\varepsilon > 0$ také, že interval $(L - \\varepsilon, L + \\varepsilon) \\subset (1,\\infty)$ a tiež existuje $L'$ také, že $1 < L' < L - \\varepsilon$. Ďalej platí (z existencie limity $L$), že pre všetky $n$ od istého $n_0$ počnúc je $\\dfrac{a_{n+1}}{a_n} \\in (L - \\varepsilon, L + \\varepsilon)$; teda pre skoro všetky $n$ je $1 < L' < \\dfrac{a_{n+1}}{a_n}$, čo podľa nelimitného podielového kritéria znamená, že daný rad diverguje.\n",
    "</font>\n",
    "\n",
    "--- "
   ]
  },
  {
   "cell_type": "markdown",
   "metadata": {},
   "source": [
    "---\n",
    "\n",
    "#### <font color=blue> Príklad 8 </font> \n",
    "\n",
    "Vyšetrite konvergenciu radu $\\displaystyle\\sum\\limits_{n=1}^\\infty a_n$, kde $a_n = \\dfrac{2n-1}{\\sqrt{2^n}}$.  \n",
    "\n",
    "<ins> Riešenie: </ins>\n",
    "\n",
    "Platí \n",
    "\n",
    "$$\\lim\\limits_{n \\to \\infty} \\dfrac{a_{n+1}}{a_n} = \\lim\\limits_{n \\to \\infty} \\dfrac{\\frac{2(n+1)-1}{\\sqrt{2^{n+1}}}}{\\frac{2n-1}{\\sqrt{2^n}}} =v\\lim\\limits_{n \\to \\infty} \\dfrac{2n+1}{2n-1}\\cdot \\dfrac{\\sqrt{2^{n}}}{\\sqrt{2^{n+1}}} = \\lim\\limits_{n \\to \\infty} \\dfrac{2n+1}{2n-1}\\cdot\\dfrac{1}{\\sqrt{2}} = \\dfrac{1}{\\sqrt{2}} < 1,$$ \n",
    "\n",
    "podľa limitného podielového kritéria teda daný rad konverguje.\n",
    "\n",
    "Výpočet v Sage by vyzeral nasledovne: "
   ]
  },
  {
   "cell_type": "code",
   "execution_count": 10,
   "metadata": {},
   "outputs": [
    {
     "data": {
      "text/html": [
       "<html><script type=\"math/tex; mode=display\">\\newcommand{\\Bold}[1]{\\mathbf{#1}}\\frac{1}{2} \\, \\sqrt{2}</script></html>"
      ],
      "text/plain": [
       "1/2*sqrt(2)"
      ]
     },
     "metadata": {},
     "output_type": "display_data"
    }
   ],
   "source": [
    "n = var('n')\n",
    "an = (2*n-1)/(sqrt(2^n))\n",
    "an1 = (2*(n+1)-1)/(sqrt(2^(n+1)))\n",
    "show(limit(an1/an, n=oo))"
   ]
  },
  {
   "cell_type": "markdown",
   "metadata": {},
   "source": [
    "---"
   ]
  },
  {
   "cell_type": "markdown",
   "metadata": {},
   "source": [
    "---\n",
    "\n",
    "#### Poznámka 9 \n",
    "\n",
    "Podielové kritérium nie je účinné, ak členy radu obsahujú iba algebraické funkcie (napr. polynómy). Najefektívnejšie je, keď výrazy obsahujú nejaké faktoriály alebo exponenciálne funkcie. \n",
    "\n",
    "---"
   ]
  },
  {
   "cell_type": "markdown",
   "metadata": {},
   "source": [
    "--- \n",
    "\n",
    "### <font color=green> Veta 9 (odmocninové kritérium, nelimitné) </font> \n",
    "\n",
    "Nech $\\displaystyle\\sum\\limits_{k=1}^\\infty a_k$ je rad s kladnými členmi.  \n",
    "\n",
    "1. Ak existuje číslo $q < 1$ také, že pre všetky $n  \\in \\mathbb{N}$ platí $\\sqrt[n]{a_n} < q$, tak rad $\\displaystyle\\sum\\limits_{k=1}^\\infty a_k$ je konvergentný.  \n",
    "\n",
    "2. Ak  pre všetky $n \\in \\mathbb{N}$ je $\\sqrt[n]{a_n} \\geq 1$, tak rad $\\displaystyle\\sum\\limits_{k=1}^\\infty a_k$ je divergentný. \n",
    "\n",
    "<font color=purple> EXTRA: Dôkaz: <br/>\n",
    "1. Ak pre všetky $n \\in \\mathbb{N}$ je $\\sqrt[n]{a_n} < q$, tak $a_n < q^n$. Teda rad $\\displaystyle\\sum\\limits_{k=1}^\\infty a_k$ je majorizovaný radom $\\displaystyle\\sum\\limits_{k=1}^\\infty q^k$, čo je geometrický rad s prvám členom $q$ a kvocientom $q$. Keďže $q < 1$, tento geometrický rad je konvergentný; podľa porovnávacieho kritéria je potom aj pôvodný rad $\\displaystyle\\sum\\limits_{k=1}^\\infty a_k$ konvergentný. \n",
    "\n",
    "\n",
    "2. Ak pre všetky $n \\in \\mathbb{N}$ je $\\sqrt[n]{a_n} \\geq 1$, tak $a_n \\geq 1$. Teda $\\lim\\limits_{n \\to \\infty} a_n \\geq 1$ za predpokladu, že táto limita existuje (ak by neexistovala, ďalej uvedený záver platí tým skôr); to znamená, že nutná podmienka konvergencie radu ($\\lim\\limits_{n\\to \\infty} a_n = 0$) nie je splnená. Daný rad teda diverguje. \n",
    "</font>\n",
    "\n",
    "--- "
   ]
  },
  {
   "cell_type": "markdown",
   "metadata": {},
   "source": [
    "--- \n",
    "\n",
    "### <font color=green> Veta 10 (odmocninové kritérium, limitné) </font> \n",
    "\n",
    "Nech $\\displaystyle\\sum\\limits_{k=1}^\\infty a_k$ je rad s kladnými členmi a $L = \\lim\\limits_{n \\to \\infty} \\sqrt[n]{a_n}$. \n",
    "\n",
    "1. Ak $L < 1$, tak daný rad je konvergentný. \n",
    "\n",
    "2. Ak $L > 1$, tak daný rad je divergentný. \n",
    "\n",
    "3. Ak $L = 1$, tak o konvergencii daného radu podľa tohto kritéria nemožno rozhodnúť. \n",
    "\n",
    "--- "
   ]
  },
  {
   "cell_type": "markdown",
   "metadata": {},
   "source": [
    "---\n",
    "\n",
    "#### <font color=blue> Príklad 9 </font> \n",
    "\n",
    "Vyšetrite konvergenciu radu $\\displaystyle\\sum\\limits_{n=1}^\\infty \\dfrac{1}{(\\ln n)^n}$.   \n",
    "\n",
    "<ins> Riešenie: </ins>\n",
    "\n",
    "Platí\n",
    "\n",
    "$$\\lim\\limits_{n \\to \\infty} \\sqrt[n]{\\dfrac{1}{(\\ln n)^n}} = \\lim\\limits_{n \\to \\infty} \\dfrac{1}{\\ln n} = 0,$$ \n",
    "\n",
    "teda podľa limitného odmocninového kritéria daný rad konverguje.\n",
    "\n",
    "Urobme aj výpočet v Sage. "
   ]
  },
  {
   "cell_type": "code",
   "execution_count": 8,
   "metadata": {},
   "outputs": [
    {
     "data": {
      "text/plain": [
       "0"
      ]
     },
     "execution_count": 8,
     "metadata": {},
     "output_type": "execute_result"
    }
   ],
   "source": [
    "n = var('n')\n",
    "an = (1/(ln(n))^n)^(1/n)\n",
    "limit(an, n=oo)"
   ]
  },
  {
   "cell_type": "markdown",
   "metadata": {},
   "source": [
    "--- "
   ]
  },
  {
   "cell_type": "markdown",
   "metadata": {},
   "source": [
    "---\n",
    "\n",
    "#### Poznámka 10 \n",
    "\n",
    "Odmocninové kritérium funguje obzvlášť dobre pri radoch, kde je každý výraz umocnený, a nefunguje dobre s výrazmi obsahujúcimi faktoriály. \n",
    "\n",
    "---"
   ]
  },
  {
   "cell_type": "markdown",
   "metadata": {},
   "source": [
    "Ďalšou špeciálnou skupinou radov sú **rady so striedavými znamienkami** (členov). Pojednáva o nich Definícia 10. "
   ]
  },
  {
   "cell_type": "markdown",
   "metadata": {},
   "source": [
    "--- \n",
    "\n",
    "### <font color=red> Definícia 10 </font> \n",
    "\n",
    "Nech $\\displaystyle\\{a_n\\}_{n=1}^\\infty$ je postupnosť s kladnými členmi. Potom rad $\\displaystyle\\sum\\limits_{k = 1}^\\infty (-1)^{k+1}a_k$ sa nazýva **_alternujúci_**. \n",
    "\n",
    "--- "
   ]
  },
  {
   "cell_type": "markdown",
   "metadata": {},
   "source": [
    "--- \n",
    "\n",
    "### <font color=green> Veta 11 (Leibnizovo kritérium) </font> \n",
    "\n",
    "Nech $\\{a_n\\}_{n=1}^\\infty$ je nerastúca postupnosť s kladnými členmi taká, že $\\lim\\limits_{n \\to \\infty} a_n = 0$. Potom alternujúci rad $\\displaystyle\\sum\\limits_{k = 1}^\\infty (-1)^{k+1}a_k$ konverguje. \n",
    "\n",
    "<font color=purple> EXTRA: Dôkaz: Uvažujme $2m$-tý čiastočný súčet daného radu:\n",
    "\n",
    "$$s_{2m} = a_1 - a_2 + a_3 - \\dots -a_{2m-2} + a_{2m-1} - a_{2m} = a_1 - (a_2 - a_3) - \\dots - (a_{2m-2} - a_{2m-1}) - a_{2m}.$$ \n",
    "\n",
    "Keďže postupnosť $\\{a_n\\}_{n=1}^\\infty$ je nerastúca, pre všetky $i \\in \\mathbb{N}$ platí $a_{2i-2} - a_{2i-1}  \\geq 0$, na základe čoho potom $s_{2m} \\leq a_1$ pre všetky $m \\in \\mathbb{N}$. \n",
    "\n",
    "Ďalej platí $s_{2m} - s_{2m-2} = -a_{2m} + a_{2m-1} \\geq 0$. Teda postupnosť párnych čiastočných súčtov $\\{s_{2m}\\}_{m=1}^\\infty$ daného radu je zhora ohraničená a neklesajúca, preto konverguje k nejakej limite $s$.\n",
    "\n",
    "Ďalej platí $s_{2m+1} = s_{2m} + a_{2m+1},$ $\\lim\\limits_{m \\to \\infty} s_{2m} = s,$ $\\lim\\limits_{m \\to \\infty} a_{2m+1} = 0$, z čoho vyplýva, že aj postupnosť nepárnych čiastočných súčtov $\\{s_{2m+1}\\}_{m=1}^\\infty$ konverguje a má tú istú limitu $s$. Platí teda, že pre každé $\\varepsilon > 0$ existuje prirodzené číslo $n_0$ také, že pre všetky $m \\geq n_0$ platí\n",
    "\n",
    "$$s - \\varepsilon \\leq s_{2m} \\leq s + \\varepsilon \\mbox{ a zároveň } s - \\varepsilon \\leq s_{2m+1} \\leq s + \\varepsilon.$$ \n",
    "\n",
    "Ak teda vezmeme $n \\geq 2n_0 +1$, tak bude platiť\n",
    "\n",
    "$$s - \\varepsilon \\leq s_n \\leq s + \\varepsilon,$$\n",
    "\n",
    "čo znamená, že $\\displaystyle\\lim\\limits_{n \\to \\infty} s_n  = s$, a teda daný rad konverguje.\n",
    "</font>\n",
    "\n",
    "--- "
   ]
  },
  {
   "cell_type": "markdown",
   "metadata": {},
   "source": [
    "---\n",
    "\n",
    "#### <font color=blue> Príklad 10 </font> \n",
    "\n",
    "Vyšetrite konvergenciu radu $\\displaystyle\\sum\\limits_{k = 1}^\\infty\\frac{(-1)^k}{\\sqrt{3k+1}}$.  \n",
    "\n",
    "<ins> Riešenie: </ins>\n",
    "\n",
    "Overíme najprv podmienky (predpoklady) Leibnizovho kritéria, keďže ide o alternujúci rad. \n",
    "\n",
    "Zrejme postupnosť $\\{a_k\\}=\\left\\{\\frac{1}{\\sqrt{3k+1}}\\right\\}$  je nerastúca, tzn. platí $\\forall k\\ge1$, že $a_k=\\frac{1}{\\sqrt{3k+1}}\\ge\\frac{1}{\\sqrt{3(k+1)+1}}=a_{k+1}$. \n",
    "\n",
    "Taktiež platí $\\lim\\limits_{k \\to \\infty} a_k=\\lim\\limits_{k \\to \\infty} \\frac{1}{\\sqrt{3k+1}}=0$. \n",
    "\n",
    "Preto podľa Leibnizovho kritéria daný rad konverguje. \n",
    "\n",
    "---"
   ]
  },
  {
   "cell_type": "markdown",
   "metadata": {},
   "source": [
    "Na záver si ešte ukážeme jeden príklad, ktorý by nás mal nabádať k **opatrnosti pri narábaní s nekonečnými radmi** (súčtami nekonečne veľa prvkov). \n",
    "\n",
    "Uvažujme tzv. Grandiho rad \n",
    "\n",
    "$$1-1+1-1+1-1+\\ldots=\\sum\\limits_{k = 1}^\\infty(-1)^k\\cdot1.$$\n",
    "\n",
    "Aký je jeho súčet? \n",
    "\n",
    "Na jednej strane máme \n",
    "\n",
    "$$1-1+1-1+1-1+\\ldots=(1-1)+(1-1)+(1-1)+\\ldots=0+0+0+\\ldots=0.$$\n",
    "\n",
    "Na druhej strane máme \n",
    "\n",
    "$$1-1+1-1+1-1+\\ldots=1+(-1+1)+(-1+1)+(-1+1)+\\ldots=1+0+0+0+\\ldots=1.$$ \n",
    "\n",
    "Uvažujme však nasledovne: nech $1-1+1-1+1-1+\\ldots=S$. <br/>\n",
    "Potom \n",
    "\n",
    "$$-(1-1+1-1+1-1+\\ldots)=-S$$\n",
    "\n",
    "$$1-(1-1+1-1+1-1+\\ldots)=1-S$$\n",
    "\n",
    "$$1-(1-1+1-1+1-1+\\ldots)=1-1+1-1+1-1+\\ldots=S$$\n",
    "\n",
    "Teda $S=1-S$, z čoho dostávame $S=\\dfrac{1}{2}$. \n",
    "\n",
    "Ak označíme $n$-tý čiastočný súčet Grandiho radu ako $s_n$, t.j. $s_n=\\displaystyle\\sum\\limits_{k = 1}^\\infty(-1)^k\\cdot1$, tak pre párne $n$ je $s_n=1$ a pre nepárne $n$ je $s_n=0$. Preto postupnosť $\\{s_n\\}_{n=0}^{\\infty}=\\{1,0,1,0,\\ldots\\}$, čiže jej členy oscilujú striedavo medzi dvoma pevnými hodnotami; daná postupnosť teda nemá limitu, tzn., že Grandiho rad osciluje - **nemá** definovaný súčet. \n",
    "\n",
    "Z toho vyplýva, že **pri manipulácii s nekonečnými radmi nemožno vo všeobecnosti používať postupy platné pri konečných súčtoch**, t.j.: \n",
    "\n",
    "* zmenu poradia sčítancov; \n",
    "\n",
    "* zátvorkovanie (pri nemennom poradí sčítancov); \n",
    "\n",
    "* násobenie nekonečného súčtu číslom. \n",
    "\n",
    "**Pri radoch, ktoré majú nezáporné členy, sa problémy s rôznymi hodnotami \"súčtov\" vyplývajúce z používania uvedených postupov nevyskytujú.**"
   ]
  },
  {
   "cell_type": "markdown",
   "metadata": {},
   "source": [
    "***\n",
    "<a id=zdroje></a>\n",
    "# <font color=brown> Použité zdroje</font>"
   ]
  },
  {
   "cell_type": "markdown",
   "metadata": {},
   "source": [
    "* Boelkins M., Austin D., Schlicker S. (2018). Active Calculus. 978-1085940856. \n",
    "\n",
    "\n",
    "* Goldstein L. J. et al. (2017). Calculus & Its Applications. Pearson Education. \n",
    "\n",
    "\n",
    "* Hartman G. et al. (2018). APEX Calculus. 978-1514225158. \n",
    "\n",
    "\n",
    "* Hallet D. H. et al. (2017). Calculus: Single Variable. Wiley. \n",
    "\n",
    "\n",
    "* Hallet D. H. (2014). Applied Calculus. John Wiley & Sons. \n",
    "\n",
    "\n",
    "* [Prednáška](https://umv.science.upjs.sk/madaras/MZIb/MZIb_5.pdf) prof. Madaras."
   ]
  }
 ],
 "metadata": {
  "kernelspec": {
   "display_name": "SageMath 9.0",
   "language": "sage",
   "name": "sagemath"
  },
  "language_info": {
   "codemirror_mode": {
    "name": "ipython",
    "version": 3
   },
   "file_extension": ".py",
   "mimetype": "text/x-python",
   "name": "python",
   "nbconvert_exporter": "python",
   "pygments_lexer": "ipython3",
   "version": "3.7.3"
  }
 },
 "nbformat": 4,
 "nbformat_minor": 2
}
